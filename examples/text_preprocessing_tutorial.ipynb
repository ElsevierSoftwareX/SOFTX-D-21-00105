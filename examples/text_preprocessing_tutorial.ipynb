{
 "cells": [
  {
   "cell_type": "markdown",
   "metadata": {},
   "source": [
    "# TextCL Tutorial\n",
    "\n",
    "1. [Filtering on language](#Filtering-on-language)\n",
    "2. [Filtering on Jaccard similarity](#Filtering-on-Jaccard-similarity)\n",
    "3. [Filtering on perplexity score](#Filtering-on-perplexity-score)\n",
    "4. [Outliers filtering](#Outliers-filtering)\n",
    "5. [Plots for outlier detection](#Plots-for-outlier-detection)"
   ]
  },
  {
   "cell_type": "markdown",
   "metadata": {},
   "source": [
    "## Load package and dependencies"
   ]
  },
  {
   "cell_type": "code",
   "execution_count": 1,
   "metadata": {},
   "outputs": [
    {
     "name": "stderr",
     "output_type": "stream",
     "text": [
      "/home/alina/.local/lib/python3.6/site-packages/torch/cuda/__init__.py:52: UserWarning: CUDA initialization: Found no NVIDIA driver on your system. Please check that you have an NVIDIA GPU and installed a driver from http://www.nvidia.com/Download/index.aspx (Triggered internally at  /pytorch/c10/cuda/CUDAFunctions.cpp:100.)\n",
      "  return torch._C._cuda_getDeviceCount() > 0\n"
     ]
    }
   ],
   "source": [
    "import textcl\n",
    "import pandas as pd"
   ]
  },
  {
   "cell_type": "markdown",
   "metadata": {},
   "source": [
    "## Prepare input data from modified the BBC dataset"
   ]
  },
  {
   "cell_type": "markdown",
   "metadata": {},
   "source": [
    "Load the text data you want to process. It's necessary to have column `text` in the data (default name). If you don't have `text` column you will need to specify the name for [`split_into_sentences()`](https://alinapetukhova.github.io/textcl/docs/preprocessing.html#textcl.preprocessing.split_into_sentences) function using `text_col` parameter. Source file from this example structured as follows:"
   ]
  },
  {
   "cell_type": "code",
   "execution_count": 2,
   "metadata": {},
   "outputs": [
    {
     "data": {
      "text/html": [
       "<div>\n",
       "<style scoped>\n",
       "    .dataframe tbody tr th:only-of-type {\n",
       "        vertical-align: middle;\n",
       "    }\n",
       "\n",
       "    .dataframe tbody tr th {\n",
       "        vertical-align: top;\n",
       "    }\n",
       "\n",
       "    .dataframe thead th {\n",
       "        text-align: right;\n",
       "    }\n",
       "</style>\n",
       "<table border=\"1\" class=\"dataframe\">\n",
       "  <thead>\n",
       "    <tr style=\"text-align: right;\">\n",
       "      <th></th>\n",
       "      <th>index</th>\n",
       "      <th>topic_name</th>\n",
       "      <th>text</th>\n",
       "    </tr>\n",
       "  </thead>\n",
       "  <tbody>\n",
       "    <tr>\n",
       "      <th>0</th>\n",
       "      <td>0</td>\n",
       "      <td>business</td>\n",
       "      <td>WorldCom bosses' $54m payout  Ten former direc...</td>\n",
       "    </tr>\n",
       "    <tr>\n",
       "      <th>1</th>\n",
       "      <td>1</td>\n",
       "      <td>business</td>\n",
       "      <td>Profits slide at India's Dr Reddy  Profits at ...</td>\n",
       "    </tr>\n",
       "    <tr>\n",
       "      <th>2</th>\n",
       "      <td>2</td>\n",
       "      <td>business</td>\n",
       "      <td>Liberian economy starts to grow  The Liberian ...</td>\n",
       "    </tr>\n",
       "    <tr>\n",
       "      <th>3</th>\n",
       "      <td>3</td>\n",
       "      <td>business</td>\n",
       "      <td>Uluslararası Para Fonu (IMF), Liberya ekonomis...</td>\n",
       "    </tr>\n",
       "    <tr>\n",
       "      <th>4</th>\n",
       "      <td>4</td>\n",
       "      <td>entertainment</td>\n",
       "      <td>Singer Ian Brown 'in gig arrest'  Former Stone...</td>\n",
       "    </tr>\n",
       "    <tr>\n",
       "      <th>5</th>\n",
       "      <td>5</td>\n",
       "      <td>entertainment</td>\n",
       "      <td>Blue beat U2 to top France honour  Irish band ...</td>\n",
       "    </tr>\n",
       "    <tr>\n",
       "      <th>6</th>\n",
       "      <td>6</td>\n",
       "      <td>entertainment</td>\n",
       "      <td>Housewives lift Channel 4 ratings  The debut o...</td>\n",
       "    </tr>\n",
       "    <tr>\n",
       "      <th>7</th>\n",
       "      <td>7</td>\n",
       "      <td>entertainment</td>\n",
       "      <td>Домохозяйки подняли рейтинги канала 4 Дебют ам...</td>\n",
       "    </tr>\n",
       "    <tr>\n",
       "      <th>8</th>\n",
       "      <td>8</td>\n",
       "      <td>entertainment</td>\n",
       "      <td>Housewives Channel 4 reytinglerini yükseltti A...</td>\n",
       "    </tr>\n",
       "    <tr>\n",
       "      <th>9</th>\n",
       "      <td>9</td>\n",
       "      <td>politics</td>\n",
       "      <td>Observers to monitor UK election  Ministers wi...</td>\n",
       "    </tr>\n",
       "    <tr>\n",
       "      <th>10</th>\n",
       "      <td>10</td>\n",
       "      <td>politics</td>\n",
       "      <td>Lib Dems highlight problem debt  People vulner...</td>\n",
       "    </tr>\n",
       "    <tr>\n",
       "      <th>11</th>\n",
       "      <td>11</td>\n",
       "      <td>politics</td>\n",
       "      <td>Minister defends hunting ban law  The law bann...</td>\n",
       "    </tr>\n",
       "    <tr>\n",
       "      <th>12</th>\n",
       "      <td>12</td>\n",
       "      <td>sport</td>\n",
       "      <td>Legendary Dutch boss Michels dies  Legendary D...</td>\n",
       "    </tr>\n",
       "    <tr>\n",
       "      <th>13</th>\n",
       "      <td>13</td>\n",
       "      <td>sport</td>\n",
       "      <td>Connors boost for British tennis  Former world...</td>\n",
       "    </tr>\n",
       "    <tr>\n",
       "      <th>14</th>\n",
       "      <td>14</td>\n",
       "      <td>sport</td>\n",
       "      <td>Sociedad set to rescue Mladenovic  Rangers are...</td>\n",
       "    </tr>\n",
       "    <tr>\n",
       "      <th>15</th>\n",
       "      <td>15</td>\n",
       "      <td>tech</td>\n",
       "      <td>Mobile games come of age  The BBC News website...</td>\n",
       "    </tr>\n",
       "    <tr>\n",
       "      <th>16</th>\n",
       "      <td>16</td>\n",
       "      <td>tech</td>\n",
       "      <td>PlayStation 3 processor unveiled  The Cell pro...</td>\n",
       "    </tr>\n",
       "    <tr>\n",
       "      <th>17</th>\n",
       "      <td>17</td>\n",
       "      <td>tech</td>\n",
       "      <td>PC photo printers challenge printed pictures c...</td>\n",
       "    </tr>\n",
       "    <tr>\n",
       "      <th>18</th>\n",
       "      <td>18</td>\n",
       "      <td>tech</td>\n",
       "      <td>PC photo printers challenge pros  Home printed...</td>\n",
       "    </tr>\n",
       "    <tr>\n",
       "      <th>19</th>\n",
       "      <td>19</td>\n",
       "      <td>tech</td>\n",
       "      <td>processor come pros 43 t6 43 Table data 342 5 ...</td>\n",
       "    </tr>\n",
       "    <tr>\n",
       "      <th>20</th>\n",
       "      <td>20</td>\n",
       "      <td>tech</td>\n",
       "      <td>Janice Dean currently serves as senior meteoro...</td>\n",
       "    </tr>\n",
       "  </tbody>\n",
       "</table>\n",
       "</div>"
      ],
      "text/plain": [
       "    index     topic_name                                               text\n",
       "0       0       business  WorldCom bosses' $54m payout  Ten former direc...\n",
       "1       1       business  Profits slide at India's Dr Reddy  Profits at ...\n",
       "2       2       business  Liberian economy starts to grow  The Liberian ...\n",
       "3       3       business  Uluslararası Para Fonu (IMF), Liberya ekonomis...\n",
       "4       4  entertainment  Singer Ian Brown 'in gig arrest'  Former Stone...\n",
       "5       5  entertainment  Blue beat U2 to top France honour  Irish band ...\n",
       "6       6  entertainment  Housewives lift Channel 4 ratings  The debut o...\n",
       "7       7  entertainment  Домохозяйки подняли рейтинги канала 4 Дебют ам...\n",
       "8       8  entertainment  Housewives Channel 4 reytinglerini yükseltti A...\n",
       "9       9       politics  Observers to monitor UK election  Ministers wi...\n",
       "10     10       politics  Lib Dems highlight problem debt  People vulner...\n",
       "11     11       politics  Minister defends hunting ban law  The law bann...\n",
       "12     12          sport  Legendary Dutch boss Michels dies  Legendary D...\n",
       "13     13          sport  Connors boost for British tennis  Former world...\n",
       "14     14          sport  Sociedad set to rescue Mladenovic  Rangers are...\n",
       "15     15           tech  Mobile games come of age  The BBC News website...\n",
       "16     16           tech  PlayStation 3 processor unveiled  The Cell pro...\n",
       "17     17           tech  PC photo printers challenge printed pictures c...\n",
       "18     18           tech  PC photo printers challenge pros  Home printed...\n",
       "19     19           tech  processor come pros 43 t6 43 Table data 342 5 ...\n",
       "20     20           tech  Janice Dean currently serves as senior meteoro..."
      ]
     },
     "execution_count": 2,
     "metadata": {},
     "output_type": "execute_result"
    }
   ],
   "source": [
    "SOURCE_FILE_PATH = 'prepared_bbc_dataset.csv'\n",
    "\n",
    "# getting text data from file\n",
    "input_texts_df = pd.read_csv(SOURCE_FILE_PATH).reset_index()\n",
    "input_texts_df"
   ]
  },
  {
   "cell_type": "markdown",
   "metadata": {},
   "source": [
    "## Split texts into sentences"
   ]
  },
  {
   "cell_type": "markdown",
   "metadata": {},
   "source": [
    "If `sentence_col` is not specified as a parameter, created sentences will be saved in the `sentence` column.|"
   ]
  },
  {
   "cell_type": "code",
   "execution_count": 3,
   "metadata": {},
   "outputs": [
    {
     "name": "stdout",
     "output_type": "stream",
     "text": [
      "Num sentences before filtering: 319\n"
     ]
    }
   ],
   "source": [
    "split_input_texts_df = textcl.split_into_sentences(input_texts_df)\n",
    "print(\"Num sentences before filtering: {}\".format(len(split_input_texts_df)))"
   ]
  },
  {
   "cell_type": "code",
   "execution_count": 4,
   "metadata": {},
   "outputs": [
    {
     "data": {
      "text/html": [
       "<div>\n",
       "<style scoped>\n",
       "    .dataframe tbody tr th:only-of-type {\n",
       "        vertical-align: middle;\n",
       "    }\n",
       "\n",
       "    .dataframe tbody tr th {\n",
       "        vertical-align: top;\n",
       "    }\n",
       "\n",
       "    .dataframe thead th {\n",
       "        text-align: right;\n",
       "    }\n",
       "</style>\n",
       "<table border=\"1\" class=\"dataframe\">\n",
       "  <thead>\n",
       "    <tr style=\"text-align: right;\">\n",
       "      <th></th>\n",
       "      <th>index</th>\n",
       "      <th>topic_name</th>\n",
       "      <th>text</th>\n",
       "      <th>sentence</th>\n",
       "    </tr>\n",
       "  </thead>\n",
       "  <tbody>\n",
       "    <tr>\n",
       "      <th>0</th>\n",
       "      <td>0</td>\n",
       "      <td>business</td>\n",
       "      <td>WorldCom bosses' $54m payout  Ten former direc...</td>\n",
       "      <td>WorldCom bosses' $54m payout  Ten former direc...</td>\n",
       "    </tr>\n",
       "    <tr>\n",
       "      <th>1</th>\n",
       "      <td>0</td>\n",
       "      <td>business</td>\n",
       "      <td>WorldCom bosses' $54m payout  Ten former direc...</td>\n",
       "      <td>James Wareham, a lawyer representing one of t...</td>\n",
       "    </tr>\n",
       "    <tr>\n",
       "      <th>2</th>\n",
       "      <td>0</td>\n",
       "      <td>business</td>\n",
       "      <td>WorldCom bosses' $54m payout  Ten former direc...</td>\n",
       "      <td>The remaining $36m will be paid by the directo...</td>\n",
       "    </tr>\n",
       "    <tr>\n",
       "      <th>3</th>\n",
       "      <td>0</td>\n",
       "      <td>business</td>\n",
       "      <td>WorldCom bosses' $54m payout  Ten former direc...</td>\n",
       "      <td>But, a spokesman for the prosecutor, New York ...</td>\n",
       "    </tr>\n",
       "    <tr>\n",
       "      <th>4</th>\n",
       "      <td>0</td>\n",
       "      <td>business</td>\n",
       "      <td>WorldCom bosses' $54m payout  Ten former direc...</td>\n",
       "      <td>Corporate governance experts said that if the...</td>\n",
       "    </tr>\n",
       "  </tbody>\n",
       "</table>\n",
       "</div>"
      ],
      "text/plain": [
       "   index topic_name                                               text  \\\n",
       "0      0   business  WorldCom bosses' $54m payout  Ten former direc...   \n",
       "1      0   business  WorldCom bosses' $54m payout  Ten former direc...   \n",
       "2      0   business  WorldCom bosses' $54m payout  Ten former direc...   \n",
       "3      0   business  WorldCom bosses' $54m payout  Ten former direc...   \n",
       "4      0   business  WorldCom bosses' $54m payout  Ten former direc...   \n",
       "\n",
       "                                            sentence  \n",
       "0  WorldCom bosses' $54m payout  Ten former direc...  \n",
       "1   James Wareham, a lawyer representing one of t...  \n",
       "2  The remaining $36m will be paid by the directo...  \n",
       "3  But, a spokesman for the prosecutor, New York ...  \n",
       "4   Corporate governance experts said that if the...  "
      ]
     },
     "execution_count": 4,
     "metadata": {},
     "output_type": "execute_result"
    }
   ],
   "source": [
    "split_input_texts_df.head()"
   ]
  },
  {
   "cell_type": "markdown",
   "metadata": {},
   "source": [
    "## Filtering on language"
   ]
  },
  {
   "cell_type": "markdown",
   "metadata": {},
   "source": [
    "The function [`language_filtering()`](https://alinapetukhova.github.io/textcl/docs/preprocessing.html#textcl.preprocessing.language_filtering) used to filter sentences by the language. Inputs to this function should be pandas data frame with sentence column, threshold value, and target language. Language score is the threshold used for filtering with the default value of 0.99. In the function was used the `detect_language` function from the package `langdetect`, that returns probabilities of text belonging to a certain language. All sentences below threshold will be filtered."
   ]
  },
  {
   "cell_type": "code",
   "execution_count": 5,
   "metadata": {},
   "outputs": [
    {
     "name": "stdout",
     "output_type": "stream",
     "text": [
      "Num sentences after language filtering: 281\n"
     ]
    }
   ],
   "source": [
    "split_input_texts_df = textcl.language_filtering(split_input_texts_df, threshold=0.99, language='en')\n",
    "print(\"Num sentences after language filtering: {}\".format(len(split_input_texts_df)))"
   ]
  },
  {
   "cell_type": "code",
   "execution_count": 6,
   "metadata": {},
   "outputs": [
    {
     "data": {
      "text/html": [
       "<div>\n",
       "<style scoped>\n",
       "    .dataframe tbody tr th:only-of-type {\n",
       "        vertical-align: middle;\n",
       "    }\n",
       "\n",
       "    .dataframe tbody tr th {\n",
       "        vertical-align: top;\n",
       "    }\n",
       "\n",
       "    .dataframe thead th {\n",
       "        text-align: right;\n",
       "    }\n",
       "</style>\n",
       "<table border=\"1\" class=\"dataframe\">\n",
       "  <thead>\n",
       "    <tr style=\"text-align: right;\">\n",
       "      <th></th>\n",
       "      <th>index</th>\n",
       "      <th>topic_name</th>\n",
       "      <th>text</th>\n",
       "      <th>sentence</th>\n",
       "    </tr>\n",
       "  </thead>\n",
       "  <tbody>\n",
       "    <tr>\n",
       "      <th>0</th>\n",
       "      <td>0</td>\n",
       "      <td>business</td>\n",
       "      <td>WorldCom bosses' $54m payout  Ten former direc...</td>\n",
       "      <td>WorldCom bosses' $54m payout  Ten former direc...</td>\n",
       "    </tr>\n",
       "    <tr>\n",
       "      <th>1</th>\n",
       "      <td>0</td>\n",
       "      <td>business</td>\n",
       "      <td>WorldCom bosses' $54m payout  Ten former direc...</td>\n",
       "      <td>James Wareham, a lawyer representing one of t...</td>\n",
       "    </tr>\n",
       "    <tr>\n",
       "      <th>2</th>\n",
       "      <td>0</td>\n",
       "      <td>business</td>\n",
       "      <td>WorldCom bosses' $54m payout  Ten former direc...</td>\n",
       "      <td>The remaining $36m will be paid by the directo...</td>\n",
       "    </tr>\n",
       "    <tr>\n",
       "      <th>3</th>\n",
       "      <td>0</td>\n",
       "      <td>business</td>\n",
       "      <td>WorldCom bosses' $54m payout  Ten former direc...</td>\n",
       "      <td>But, a spokesman for the prosecutor, New York ...</td>\n",
       "    </tr>\n",
       "    <tr>\n",
       "      <th>4</th>\n",
       "      <td>0</td>\n",
       "      <td>business</td>\n",
       "      <td>WorldCom bosses' $54m payout  Ten former direc...</td>\n",
       "      <td>Corporate governance experts said that if the...</td>\n",
       "    </tr>\n",
       "  </tbody>\n",
       "</table>\n",
       "</div>"
      ],
      "text/plain": [
       "   index topic_name                                               text  \\\n",
       "0      0   business  WorldCom bosses' $54m payout  Ten former direc...   \n",
       "1      0   business  WorldCom bosses' $54m payout  Ten former direc...   \n",
       "2      0   business  WorldCom bosses' $54m payout  Ten former direc...   \n",
       "3      0   business  WorldCom bosses' $54m payout  Ten former direc...   \n",
       "4      0   business  WorldCom bosses' $54m payout  Ten former direc...   \n",
       "\n",
       "                                            sentence  \n",
       "0  WorldCom bosses' $54m payout  Ten former direc...  \n",
       "1   James Wareham, a lawyer representing one of t...  \n",
       "2  The remaining $36m will be paid by the directo...  \n",
       "3  But, a spokesman for the prosecutor, New York ...  \n",
       "4   Corporate governance experts said that if the...  "
      ]
     },
     "execution_count": 6,
     "metadata": {},
     "output_type": "execute_result"
    }
   ],
   "source": [
    "split_input_texts_df.head()"
   ]
  },
  {
   "cell_type": "markdown",
   "metadata": {},
   "source": [
    "Join sentences to the texts to review the results"
   ]
  },
  {
   "cell_type": "code",
   "execution_count": 7,
   "metadata": {},
   "outputs": [
    {
     "data": {
      "text/html": [
       "<div>\n",
       "<style scoped>\n",
       "    .dataframe tbody tr th:only-of-type {\n",
       "        vertical-align: middle;\n",
       "    }\n",
       "\n",
       "    .dataframe tbody tr th {\n",
       "        vertical-align: top;\n",
       "    }\n",
       "\n",
       "    .dataframe thead th {\n",
       "        text-align: right;\n",
       "    }\n",
       "</style>\n",
       "<table border=\"1\" class=\"dataframe\">\n",
       "  <thead>\n",
       "    <tr style=\"text-align: right;\">\n",
       "      <th></th>\n",
       "      <th>index</th>\n",
       "      <th>sentence</th>\n",
       "    </tr>\n",
       "  </thead>\n",
       "  <tbody>\n",
       "    <tr>\n",
       "      <th>0</th>\n",
       "      <td>0</td>\n",
       "      <td>WorldCom bosses' $54m payout  Ten former direc...</td>\n",
       "    </tr>\n",
       "    <tr>\n",
       "      <th>1</th>\n",
       "      <td>1</td>\n",
       "      <td>Profits slide at India's Dr Reddy  Profits at ...</td>\n",
       "    </tr>\n",
       "    <tr>\n",
       "      <th>2</th>\n",
       "      <td>2</td>\n",
       "      <td>Liberian economy starts to grow  The Liberian ...</td>\n",
       "    </tr>\n",
       "    <tr>\n",
       "      <th>3</th>\n",
       "      <td>4</td>\n",
       "      <td>Singer Ian Brown 'in gig arrest'  Former Stone...</td>\n",
       "    </tr>\n",
       "    <tr>\n",
       "      <th>4</th>\n",
       "      <td>5</td>\n",
       "      <td>Blue beat U2 to top France honour  Irish band ...</td>\n",
       "    </tr>\n",
       "    <tr>\n",
       "      <th>5</th>\n",
       "      <td>6</td>\n",
       "      <td>Housewives lift Channel 4 ratings  The debut o...</td>\n",
       "    </tr>\n",
       "    <tr>\n",
       "      <th>6</th>\n",
       "      <td>9</td>\n",
       "      <td>Observers to monitor UK election  Ministers wi...</td>\n",
       "    </tr>\n",
       "    <tr>\n",
       "      <th>7</th>\n",
       "      <td>10</td>\n",
       "      <td>Lib Dems highlight problem debt  People vulner...</td>\n",
       "    </tr>\n",
       "    <tr>\n",
       "      <th>8</th>\n",
       "      <td>11</td>\n",
       "      <td>Minister defends hunting ban law  The law bann...</td>\n",
       "    </tr>\n",
       "    <tr>\n",
       "      <th>9</th>\n",
       "      <td>12</td>\n",
       "      <td>Legendary Dutch boss Michels dies  Legendary D...</td>\n",
       "    </tr>\n",
       "    <tr>\n",
       "      <th>10</th>\n",
       "      <td>13</td>\n",
       "      <td>Connors boost for British tennis  Former world...</td>\n",
       "    </tr>\n",
       "    <tr>\n",
       "      <th>11</th>\n",
       "      <td>14</td>\n",
       "      <td>Sociedad set to rescue Mladenovic  Rangers are...</td>\n",
       "    </tr>\n",
       "    <tr>\n",
       "      <th>12</th>\n",
       "      <td>15</td>\n",
       "      <td>Mobile games come of age  The BBC News website...</td>\n",
       "    </tr>\n",
       "    <tr>\n",
       "      <th>13</th>\n",
       "      <td>16</td>\n",
       "      <td>PlayStation 3 processor unveiled  The Cell pro...</td>\n",
       "    </tr>\n",
       "    <tr>\n",
       "      <th>14</th>\n",
       "      <td>17</td>\n",
       "      <td>PC photo printers challenge printed pictures c...</td>\n",
       "    </tr>\n",
       "    <tr>\n",
       "      <th>15</th>\n",
       "      <td>18</td>\n",
       "      <td>PC photo printers challenge pros  Home printed...</td>\n",
       "    </tr>\n",
       "    <tr>\n",
       "      <th>16</th>\n",
       "      <td>19</td>\n",
       "      <td>data clear additional 78.0 long-term 43 those)</td>\n",
       "    </tr>\n",
       "    <tr>\n",
       "      <th>17</th>\n",
       "      <td>20</td>\n",
       "      <td>Janice Dean currently serves as senior meteoro...</td>\n",
       "    </tr>\n",
       "  </tbody>\n",
       "</table>\n",
       "</div>"
      ],
      "text/plain": [
       "    index                                           sentence\n",
       "0       0  WorldCom bosses' $54m payout  Ten former direc...\n",
       "1       1  Profits slide at India's Dr Reddy  Profits at ...\n",
       "2       2  Liberian economy starts to grow  The Liberian ...\n",
       "3       4  Singer Ian Brown 'in gig arrest'  Former Stone...\n",
       "4       5  Blue beat U2 to top France honour  Irish band ...\n",
       "5       6  Housewives lift Channel 4 ratings  The debut o...\n",
       "6       9  Observers to monitor UK election  Ministers wi...\n",
       "7      10  Lib Dems highlight problem debt  People vulner...\n",
       "8      11  Minister defends hunting ban law  The law bann...\n",
       "9      12  Legendary Dutch boss Michels dies  Legendary D...\n",
       "10     13  Connors boost for British tennis  Former world...\n",
       "11     14  Sociedad set to rescue Mladenovic  Rangers are...\n",
       "12     15  Mobile games come of age  The BBC News website...\n",
       "13     16  PlayStation 3 processor unveiled  The Cell pro...\n",
       "14     17  PC photo printers challenge printed pictures c...\n",
       "15     18  PC photo printers challenge pros  Home printed...\n",
       "16     19     data clear additional 78.0 long-term 43 those)\n",
       "17     20  Janice Dean currently serves as senior meteoro..."
      ]
     },
     "execution_count": 7,
     "metadata": {},
     "output_type": "execute_result"
    }
   ],
   "source": [
    "textcl.join_sentences_by_label(split_input_texts_df, label_col = 'index')"
   ]
  },
  {
   "cell_type": "markdown",
   "metadata": {},
   "source": [
    "As we can see texts with index 3 (Turkish), 7 (Russian), 8 (Turkish) were removed."
   ]
  },
  {
   "cell_type": "markdown",
   "metadata": {},
   "source": [
    "## Filtering on Jaccard similarity"
   ]
  },
  {
   "cell_type": "markdown",
   "metadata": {},
   "source": [
    "Function [`jaccard_sim_filtering()`](https://alinapetukhova.github.io/textcl/docs/preprocessing.html#textcl.preprocessing.jaccard_sim_filtering) used to filter sentences by Jaccard similarity. Represents each sentence as an array of tokens and finds the intersection between two arrays. Using the intersection calculated the similarity score and if it's below the given threshold sentence will be filtered."
   ]
  },
  {
   "cell_type": "code",
   "execution_count": 8,
   "metadata": {},
   "outputs": [
    {
     "name": "stdout",
     "output_type": "stream",
     "text": [
      "Num sentences after Jaccard sim filtering: 258\n"
     ]
    }
   ],
   "source": [
    "split_input_texts_df = textcl.jaccard_sim_filtering(split_input_texts_df, threshold=0.8)\n",
    "print(\"Num sentences after Jaccard sim filtering: {}\".format(len(split_input_texts_df)))"
   ]
  },
  {
   "cell_type": "code",
   "execution_count": 9,
   "metadata": {},
   "outputs": [
    {
     "data": {
      "text/html": [
       "<div>\n",
       "<style scoped>\n",
       "    .dataframe tbody tr th:only-of-type {\n",
       "        vertical-align: middle;\n",
       "    }\n",
       "\n",
       "    .dataframe tbody tr th {\n",
       "        vertical-align: top;\n",
       "    }\n",
       "\n",
       "    .dataframe thead th {\n",
       "        text-align: right;\n",
       "    }\n",
       "</style>\n",
       "<table border=\"1\" class=\"dataframe\">\n",
       "  <thead>\n",
       "    <tr style=\"text-align: right;\">\n",
       "      <th></th>\n",
       "      <th>index</th>\n",
       "      <th>topic_name</th>\n",
       "      <th>text</th>\n",
       "      <th>sentence</th>\n",
       "    </tr>\n",
       "  </thead>\n",
       "  <tbody>\n",
       "    <tr>\n",
       "      <th>0</th>\n",
       "      <td>0</td>\n",
       "      <td>business</td>\n",
       "      <td>WorldCom bosses' $54m payout  Ten former direc...</td>\n",
       "      <td>WorldCom bosses' $54m payout  Ten former direc...</td>\n",
       "    </tr>\n",
       "    <tr>\n",
       "      <th>1</th>\n",
       "      <td>0</td>\n",
       "      <td>business</td>\n",
       "      <td>WorldCom bosses' $54m payout  Ten former direc...</td>\n",
       "      <td>James Wareham, a lawyer representing one of t...</td>\n",
       "    </tr>\n",
       "    <tr>\n",
       "      <th>2</th>\n",
       "      <td>0</td>\n",
       "      <td>business</td>\n",
       "      <td>WorldCom bosses' $54m payout  Ten former direc...</td>\n",
       "      <td>The remaining $36m will be paid by the directo...</td>\n",
       "    </tr>\n",
       "    <tr>\n",
       "      <th>3</th>\n",
       "      <td>0</td>\n",
       "      <td>business</td>\n",
       "      <td>WorldCom bosses' $54m payout  Ten former direc...</td>\n",
       "      <td>But, a spokesman for the prosecutor, New York ...</td>\n",
       "    </tr>\n",
       "    <tr>\n",
       "      <th>4</th>\n",
       "      <td>0</td>\n",
       "      <td>business</td>\n",
       "      <td>WorldCom bosses' $54m payout  Ten former direc...</td>\n",
       "      <td>Corporate governance experts said that if the...</td>\n",
       "    </tr>\n",
       "  </tbody>\n",
       "</table>\n",
       "</div>"
      ],
      "text/plain": [
       "   index topic_name                                               text  \\\n",
       "0      0   business  WorldCom bosses' $54m payout  Ten former direc...   \n",
       "1      0   business  WorldCom bosses' $54m payout  Ten former direc...   \n",
       "2      0   business  WorldCom bosses' $54m payout  Ten former direc...   \n",
       "3      0   business  WorldCom bosses' $54m payout  Ten former direc...   \n",
       "4      0   business  WorldCom bosses' $54m payout  Ten former direc...   \n",
       "\n",
       "                                            sentence  \n",
       "0  WorldCom bosses' $54m payout  Ten former direc...  \n",
       "1   James Wareham, a lawyer representing one of t...  \n",
       "2  The remaining $36m will be paid by the directo...  \n",
       "3  But, a spokesman for the prosecutor, New York ...  \n",
       "4   Corporate governance experts said that if the...  "
      ]
     },
     "execution_count": 9,
     "metadata": {},
     "output_type": "execute_result"
    }
   ],
   "source": [
    "split_input_texts_df.head()"
   ]
  },
  {
   "cell_type": "markdown",
   "metadata": {},
   "source": [
    "Join sentences to the texts to review the results"
   ]
  },
  {
   "cell_type": "code",
   "execution_count": 10,
   "metadata": {},
   "outputs": [
    {
     "data": {
      "text/html": [
       "<div>\n",
       "<style scoped>\n",
       "    .dataframe tbody tr th:only-of-type {\n",
       "        vertical-align: middle;\n",
       "    }\n",
       "\n",
       "    .dataframe tbody tr th {\n",
       "        vertical-align: top;\n",
       "    }\n",
       "\n",
       "    .dataframe thead th {\n",
       "        text-align: right;\n",
       "    }\n",
       "</style>\n",
       "<table border=\"1\" class=\"dataframe\">\n",
       "  <thead>\n",
       "    <tr style=\"text-align: right;\">\n",
       "      <th></th>\n",
       "      <th>index</th>\n",
       "      <th>sentence</th>\n",
       "    </tr>\n",
       "  </thead>\n",
       "  <tbody>\n",
       "    <tr>\n",
       "      <th>0</th>\n",
       "      <td>0</td>\n",
       "      <td>WorldCom bosses' $54m payout  Ten former direc...</td>\n",
       "    </tr>\n",
       "    <tr>\n",
       "      <th>1</th>\n",
       "      <td>1</td>\n",
       "      <td>Profits slide at India's Dr Reddy  Profits at ...</td>\n",
       "    </tr>\n",
       "    <tr>\n",
       "      <th>2</th>\n",
       "      <td>2</td>\n",
       "      <td>Liberian economy starts to grow  The Liberian ...</td>\n",
       "    </tr>\n",
       "    <tr>\n",
       "      <th>3</th>\n",
       "      <td>4</td>\n",
       "      <td>Singer Ian Brown 'in gig arrest'  Former Stone...</td>\n",
       "    </tr>\n",
       "    <tr>\n",
       "      <th>4</th>\n",
       "      <td>5</td>\n",
       "      <td>Blue beat U2 to top France honour  Irish band ...</td>\n",
       "    </tr>\n",
       "    <tr>\n",
       "      <th>5</th>\n",
       "      <td>6</td>\n",
       "      <td>Housewives lift Channel 4 ratings  The debut o...</td>\n",
       "    </tr>\n",
       "    <tr>\n",
       "      <th>6</th>\n",
       "      <td>9</td>\n",
       "      <td>Observers to monitor UK election  Ministers wi...</td>\n",
       "    </tr>\n",
       "    <tr>\n",
       "      <th>7</th>\n",
       "      <td>10</td>\n",
       "      <td>Lib Dems highlight problem debt  People vulner...</td>\n",
       "    </tr>\n",
       "    <tr>\n",
       "      <th>8</th>\n",
       "      <td>11</td>\n",
       "      <td>Minister defends hunting ban law  The law bann...</td>\n",
       "    </tr>\n",
       "    <tr>\n",
       "      <th>9</th>\n",
       "      <td>12</td>\n",
       "      <td>Legendary Dutch boss Michels dies  Legendary D...</td>\n",
       "    </tr>\n",
       "    <tr>\n",
       "      <th>10</th>\n",
       "      <td>13</td>\n",
       "      <td>Connors boost for British tennis  Former world...</td>\n",
       "    </tr>\n",
       "    <tr>\n",
       "      <th>11</th>\n",
       "      <td>14</td>\n",
       "      <td>Sociedad set to rescue Mladenovic  Rangers are...</td>\n",
       "    </tr>\n",
       "    <tr>\n",
       "      <th>12</th>\n",
       "      <td>15</td>\n",
       "      <td>Mobile games come of age  The BBC News website...</td>\n",
       "    </tr>\n",
       "    <tr>\n",
       "      <th>13</th>\n",
       "      <td>16</td>\n",
       "      <td>PlayStation 3 processor unveiled  The Cell pro...</td>\n",
       "    </tr>\n",
       "    <tr>\n",
       "      <th>14</th>\n",
       "      <td>18</td>\n",
       "      <td>PC photo printers challenge pros  Home printed...</td>\n",
       "    </tr>\n",
       "    <tr>\n",
       "      <th>15</th>\n",
       "      <td>19</td>\n",
       "      <td>data clear additional 78.0 long-term 43 those)</td>\n",
       "    </tr>\n",
       "    <tr>\n",
       "      <th>16</th>\n",
       "      <td>20</td>\n",
       "      <td>Janice Dean currently serves as senior meteoro...</td>\n",
       "    </tr>\n",
       "  </tbody>\n",
       "</table>\n",
       "</div>"
      ],
      "text/plain": [
       "    index                                           sentence\n",
       "0       0  WorldCom bosses' $54m payout  Ten former direc...\n",
       "1       1  Profits slide at India's Dr Reddy  Profits at ...\n",
       "2       2  Liberian economy starts to grow  The Liberian ...\n",
       "3       4  Singer Ian Brown 'in gig arrest'  Former Stone...\n",
       "4       5  Blue beat U2 to top France honour  Irish band ...\n",
       "5       6  Housewives lift Channel 4 ratings  The debut o...\n",
       "6       9  Observers to monitor UK election  Ministers wi...\n",
       "7      10  Lib Dems highlight problem debt  People vulner...\n",
       "8      11  Minister defends hunting ban law  The law bann...\n",
       "9      12  Legendary Dutch boss Michels dies  Legendary D...\n",
       "10     13  Connors boost for British tennis  Former world...\n",
       "11     14  Sociedad set to rescue Mladenovic  Rangers are...\n",
       "12     15  Mobile games come of age  The BBC News website...\n",
       "13     16  PlayStation 3 processor unveiled  The Cell pro...\n",
       "14     18  PC photo printers challenge pros  Home printed...\n",
       "15     19     data clear additional 78.0 long-term 43 those)\n",
       "16     20  Janice Dean currently serves as senior meteoro..."
      ]
     },
     "execution_count": 10,
     "metadata": {},
     "output_type": "execute_result"
    }
   ],
   "source": [
    "textcl.join_sentences_by_label(split_input_texts_df, label_col = 'index')"
   ]
  },
  {
   "cell_type": "markdown",
   "metadata": {},
   "source": [
    "Text with id=17 was removed as it partially duplicates text with id=18."
   ]
  },
  {
   "cell_type": "markdown",
   "metadata": {},
   "source": [
    "## Filtering on perplexity score"
   ]
  },
  {
   "cell_type": "markdown",
   "metadata": {},
   "source": [
    "Function [`perplexity_filtering()`](https://alinapetukhova.github.io/textcl/docs/preprocessing.html#textcl.preprocessing.perplexity_filtering) used to filter sentences by perplexity. The first step creates contextual tokens to capture latent syntactic-semantic information provided by the package `pytorch_pretrained_bert` with pretrained `openai-gpt` tokenizer and use GPT as Language Model with `OpenAIGPTLMHeadModel`. Perplexity calculated as `exp(loss)` (where **loss** is language modeling loss of a particular token)."
   ]
  },
  {
   "cell_type": "code",
   "execution_count": 11,
   "metadata": {},
   "outputs": [
    {
     "name": "stdout",
     "output_type": "stream",
     "text": [
      "Num sentences after perplexity filtering: 209\n"
     ]
    }
   ],
   "source": [
    "split_input_texts_df = textcl.perplexity_filtering(split_input_texts_df, threshold=1000)\n",
    "print(\"Num sentences after perplexity filtering: {}\".format(len(split_input_texts_df)))"
   ]
  },
  {
   "cell_type": "code",
   "execution_count": 12,
   "metadata": {},
   "outputs": [
    {
     "data": {
      "text/html": [
       "<div>\n",
       "<style scoped>\n",
       "    .dataframe tbody tr th:only-of-type {\n",
       "        vertical-align: middle;\n",
       "    }\n",
       "\n",
       "    .dataframe tbody tr th {\n",
       "        vertical-align: top;\n",
       "    }\n",
       "\n",
       "    .dataframe thead th {\n",
       "        text-align: right;\n",
       "    }\n",
       "</style>\n",
       "<table border=\"1\" class=\"dataframe\">\n",
       "  <thead>\n",
       "    <tr style=\"text-align: right;\">\n",
       "      <th></th>\n",
       "      <th>index</th>\n",
       "      <th>topic_name</th>\n",
       "      <th>text</th>\n",
       "      <th>sentence</th>\n",
       "    </tr>\n",
       "  </thead>\n",
       "  <tbody>\n",
       "    <tr>\n",
       "      <th>1</th>\n",
       "      <td>0</td>\n",
       "      <td>business</td>\n",
       "      <td>WorldCom bosses' $54m payout  Ten former direc...</td>\n",
       "      <td>James Wareham, a lawyer representing one of t...</td>\n",
       "    </tr>\n",
       "    <tr>\n",
       "      <th>2</th>\n",
       "      <td>0</td>\n",
       "      <td>business</td>\n",
       "      <td>WorldCom bosses' $54m payout  Ten former direc...</td>\n",
       "      <td>The remaining $36m will be paid by the directo...</td>\n",
       "    </tr>\n",
       "    <tr>\n",
       "      <th>3</th>\n",
       "      <td>0</td>\n",
       "      <td>business</td>\n",
       "      <td>WorldCom bosses' $54m payout  Ten former direc...</td>\n",
       "      <td>But, a spokesman for the prosecutor, New York ...</td>\n",
       "    </tr>\n",
       "    <tr>\n",
       "      <th>4</th>\n",
       "      <td>0</td>\n",
       "      <td>business</td>\n",
       "      <td>WorldCom bosses' $54m payout  Ten former direc...</td>\n",
       "      <td>Corporate governance experts said that if the...</td>\n",
       "    </tr>\n",
       "    <tr>\n",
       "      <th>5</th>\n",
       "      <td>0</td>\n",
       "      <td>business</td>\n",
       "      <td>WorldCom bosses' $54m payout  Ten former direc...</td>\n",
       "      <td>\"Directors very rarely pay,\" said Charles Els...</td>\n",
       "    </tr>\n",
       "  </tbody>\n",
       "</table>\n",
       "</div>"
      ],
      "text/plain": [
       "   index topic_name                                               text  \\\n",
       "1      0   business  WorldCom bosses' $54m payout  Ten former direc...   \n",
       "2      0   business  WorldCom bosses' $54m payout  Ten former direc...   \n",
       "3      0   business  WorldCom bosses' $54m payout  Ten former direc...   \n",
       "4      0   business  WorldCom bosses' $54m payout  Ten former direc...   \n",
       "5      0   business  WorldCom bosses' $54m payout  Ten former direc...   \n",
       "\n",
       "                                            sentence  \n",
       "1   James Wareham, a lawyer representing one of t...  \n",
       "2  The remaining $36m will be paid by the directo...  \n",
       "3  But, a spokesman for the prosecutor, New York ...  \n",
       "4   Corporate governance experts said that if the...  \n",
       "5   \"Directors very rarely pay,\" said Charles Els...  "
      ]
     },
     "execution_count": 12,
     "metadata": {},
     "output_type": "execute_result"
    }
   ],
   "source": [
    "split_input_texts_df.head()"
   ]
  },
  {
   "cell_type": "markdown",
   "metadata": {},
   "source": [
    "Join sentences to the texts to review the results"
   ]
  },
  {
   "cell_type": "code",
   "execution_count": 13,
   "metadata": {},
   "outputs": [
    {
     "data": {
      "text/html": [
       "<div>\n",
       "<style scoped>\n",
       "    .dataframe tbody tr th:only-of-type {\n",
       "        vertical-align: middle;\n",
       "    }\n",
       "\n",
       "    .dataframe tbody tr th {\n",
       "        vertical-align: top;\n",
       "    }\n",
       "\n",
       "    .dataframe thead th {\n",
       "        text-align: right;\n",
       "    }\n",
       "</style>\n",
       "<table border=\"1\" class=\"dataframe\">\n",
       "  <thead>\n",
       "    <tr style=\"text-align: right;\">\n",
       "      <th></th>\n",
       "      <th>index</th>\n",
       "      <th>sentence</th>\n",
       "    </tr>\n",
       "  </thead>\n",
       "  <tbody>\n",
       "    <tr>\n",
       "      <th>0</th>\n",
       "      <td>0</td>\n",
       "      <td>James Wareham, a lawyer representing one of t...</td>\n",
       "    </tr>\n",
       "    <tr>\n",
       "      <th>1</th>\n",
       "      <td>1</td>\n",
       "      <td>Dr Reddy's has built its reputation on produci...</td>\n",
       "    </tr>\n",
       "    <tr>\n",
       "      <th>2</th>\n",
       "      <td>2</td>\n",
       "      <td>Liberian economy starts to grow  The Liberian ...</td>\n",
       "    </tr>\n",
       "    <tr>\n",
       "      <th>3</th>\n",
       "      <td>4</td>\n",
       "      <td>Singer Ian Brown 'in gig arrest'  Former Stone...</td>\n",
       "    </tr>\n",
       "    <tr>\n",
       "      <th>4</th>\n",
       "      <td>5</td>\n",
       "      <td>U2 received a special achievement prize at th...</td>\n",
       "    </tr>\n",
       "    <tr>\n",
       "      <th>5</th>\n",
       "      <td>6</td>\n",
       "      <td>Housewives lift Channel 4 ratings  The debut o...</td>\n",
       "    </tr>\n",
       "    <tr>\n",
       "      <th>6</th>\n",
       "      <td>9</td>\n",
       "      <td>Observers to monitor UK election  Ministers wi...</td>\n",
       "    </tr>\n",
       "    <tr>\n",
       "      <th>7</th>\n",
       "      <td>10</td>\n",
       "      <td>Lib Dems highlight problem debt  People vulner...</td>\n",
       "    </tr>\n",
       "    <tr>\n",
       "      <th>8</th>\n",
       "      <td>11</td>\n",
       "      <td>The rural affairs minister said it would beco...</td>\n",
       "    </tr>\n",
       "    <tr>\n",
       "      <th>9</th>\n",
       "      <td>12</td>\n",
       "      <td>Referred to in the Netherlands as \"the Genera...</td>\n",
       "    </tr>\n",
       "    <tr>\n",
       "      <th>10</th>\n",
       "      <td>13</td>\n",
       "      <td>Connors boost for British tennis  Former world...</td>\n",
       "    </tr>\n",
       "    <tr>\n",
       "      <th>11</th>\n",
       "      <td>14</td>\n",
       "      <td>Sociedad set to rescue Mladenovic  Rangers are...</td>\n",
       "    </tr>\n",
       "    <tr>\n",
       "      <th>12</th>\n",
       "      <td>15</td>\n",
       "      <td>Mobile games come of age  The BBC News website...</td>\n",
       "    </tr>\n",
       "    <tr>\n",
       "      <th>13</th>\n",
       "      <td>16</td>\n",
       "      <td>PlayStation 3 processor unveiled  The Cell pro...</td>\n",
       "    </tr>\n",
       "    <tr>\n",
       "      <th>14</th>\n",
       "      <td>18</td>\n",
       "      <td>PC photo printers challenge pros  Home printed...</td>\n",
       "    </tr>\n",
       "    <tr>\n",
       "      <th>15</th>\n",
       "      <td>20</td>\n",
       "      <td>Janice Dean currently serves as senior meteoro...</td>\n",
       "    </tr>\n",
       "  </tbody>\n",
       "</table>\n",
       "</div>"
      ],
      "text/plain": [
       "    index                                           sentence\n",
       "0       0   James Wareham, a lawyer representing one of t...\n",
       "1       1  Dr Reddy's has built its reputation on produci...\n",
       "2       2  Liberian economy starts to grow  The Liberian ...\n",
       "3       4  Singer Ian Brown 'in gig arrest'  Former Stone...\n",
       "4       5   U2 received a special achievement prize at th...\n",
       "5       6  Housewives lift Channel 4 ratings  The debut o...\n",
       "6       9  Observers to monitor UK election  Ministers wi...\n",
       "7      10  Lib Dems highlight problem debt  People vulner...\n",
       "8      11   The rural affairs minister said it would beco...\n",
       "9      12   Referred to in the Netherlands as \"the Genera...\n",
       "10     13  Connors boost for British tennis  Former world...\n",
       "11     14  Sociedad set to rescue Mladenovic  Rangers are...\n",
       "12     15  Mobile games come of age  The BBC News website...\n",
       "13     16  PlayStation 3 processor unveiled  The Cell pro...\n",
       "14     18  PC photo printers challenge pros  Home printed...\n",
       "15     20  Janice Dean currently serves as senior meteoro..."
      ]
     },
     "execution_count": 13,
     "metadata": {},
     "output_type": "execute_result"
    }
   ],
   "source": [
    "textcl.join_sentences_by_label(split_input_texts_df, label_col = 'index')"
   ]
  },
  {
   "cell_type": "markdown",
   "metadata": {},
   "source": [
    "Text with id=19 was removed because sentence `data clear additional 78.0 long-term 43 those)` is not linguistically correct."
   ]
  },
  {
   "cell_type": "markdown",
   "metadata": {},
   "source": [
    "## Outliers filtering"
   ]
  },
  {
   "cell_type": "markdown",
   "metadata": {},
   "source": [
    "The function [`outlier_detection()`](https://alinapetukhova.github.io/textcl/docs/outliers_detection.html#textcl.outliers_detection.outlier_detection) used to detect outliers in a list of sentences based on the contextual information using the unsupervised methods. Text embeddings were created as a bag of words as an input for the algorithms. Input parameters - Pandas data frames with texts, method to use for outlier detection, norm to normalize the obtained matrix and detect the abnormal texts."
   ]
  },
  {
   "cell_type": "markdown",
   "metadata": {},
   "source": [
    "Join sentences to the text after filtering and select category **tech**. In this category was manually inserted an outlier with person profile instead of tech text"
   ]
  },
  {
   "cell_type": "code",
   "execution_count": 14,
   "metadata": {},
   "outputs": [],
   "source": [
    "joined_texts = split_input_texts_df[[\"index\", \"text\", \"topic_name\"]].drop_duplicates()\n",
    "joined_texts = joined_texts[joined_texts.topic_name == 'tech']"
   ]
  },
  {
   "cell_type": "code",
   "execution_count": 15,
   "metadata": {},
   "outputs": [
    {
     "name": "stdout",
     "output_type": "stream",
     "text": [
      "Num sentences after outliers filtering: 21\n"
     ]
    },
    {
     "name": "stderr",
     "output_type": "stream",
     "text": [
      "[nltk_data] Downloading package stopwords to /home/alina/nltk_data...\n",
      "[nltk_data]   Package stopwords is already up-to-date!\n"
     ]
    }
   ],
   "source": [
    "joined_texts, _ = textcl.outlier_detection(joined_texts, method='rpca', Z_threshold=0.8)\n",
    "print(\"Num sentences after outliers filtering: {}\".format(len(input_texts_df)))"
   ]
  },
  {
   "cell_type": "code",
   "execution_count": 16,
   "metadata": {},
   "outputs": [
    {
     "data": {
      "text/html": [
       "<div>\n",
       "<style scoped>\n",
       "    .dataframe tbody tr th:only-of-type {\n",
       "        vertical-align: middle;\n",
       "    }\n",
       "\n",
       "    .dataframe tbody tr th {\n",
       "        vertical-align: top;\n",
       "    }\n",
       "\n",
       "    .dataframe thead th {\n",
       "        text-align: right;\n",
       "    }\n",
       "</style>\n",
       "<table border=\"1\" class=\"dataframe\">\n",
       "  <thead>\n",
       "    <tr style=\"text-align: right;\">\n",
       "      <th></th>\n",
       "      <th>index</th>\n",
       "      <th>text</th>\n",
       "      <th>topic_name</th>\n",
       "      <th>words</th>\n",
       "      <th>Z_score</th>\n",
       "    </tr>\n",
       "  </thead>\n",
       "  <tbody>\n",
       "    <tr>\n",
       "      <th>212</th>\n",
       "      <td>16</td>\n",
       "      <td>PlayStation 3 processor unveiled  The Cell pro...</td>\n",
       "      <td>tech</td>\n",
       "      <td>PlayStation 3 processor unveiled Cell processo...</td>\n",
       "      <td>0.431154</td>\n",
       "    </tr>\n",
       "    <tr>\n",
       "      <th>233</th>\n",
       "      <td>18</td>\n",
       "      <td>PC photo printers challenge pros  Home printed...</td>\n",
       "      <td>tech</td>\n",
       "      <td>PC photo printers challenge pros Home printed ...</td>\n",
       "      <td>0.292867</td>\n",
       "    </tr>\n",
       "  </tbody>\n",
       "</table>\n",
       "</div>"
      ],
      "text/plain": [
       "     index                                               text topic_name  \\\n",
       "212     16  PlayStation 3 processor unveiled  The Cell pro...       tech   \n",
       "233     18  PC photo printers challenge pros  Home printed...       tech   \n",
       "\n",
       "                                                 words   Z_score  \n",
       "212  PlayStation 3 processor unveiled Cell processo...  0.431154  \n",
       "233  PC photo printers challenge pros Home printed ...  0.292867  "
      ]
     },
     "execution_count": 16,
     "metadata": {},
     "output_type": "execute_result"
    }
   ],
   "source": [
    "joined_texts"
   ]
  },
  {
   "cell_type": "markdown",
   "metadata": {},
   "source": [
    "Text with id=20 was removed because it describes a person profile instead of tech news.\n"
   ]
  },
  {
   "cell_type": "markdown",
   "metadata": {},
   "source": [
    "## Plots for outlier detection"
   ]
  },
  {
   "cell_type": "markdown",
   "metadata": {},
   "source": [
    "In this block of tutorial we will visualize the outliers for the BBC data set obtained with the different algorithms"
   ]
  },
  {
   "cell_type": "code",
   "execution_count": 17,
   "metadata": {
    "pycharm": {
     "name": "#%%\n"
    }
   },
   "outputs": [
    {
     "name": "stderr",
     "output_type": "stream",
     "text": [
      "In /home/alina/.local/lib/python3.6/site-packages/matplotlib/mpl-data/stylelib/_classic_test.mplstyle: \n",
      "The text.latex.preview rcparam was deprecated in Matplotlib 3.3 and will be removed two minor releases later.\n",
      "In /home/alina/.local/lib/python3.6/site-packages/matplotlib/mpl-data/stylelib/_classic_test.mplstyle: \n",
      "The mathtext.fallback_to_cm rcparam was deprecated in Matplotlib 3.3 and will be removed two minor releases later.\n",
      "In /home/alina/.local/lib/python3.6/site-packages/matplotlib/mpl-data/stylelib/_classic_test.mplstyle: Support for setting the 'mathtext.fallback_to_cm' rcParam is deprecated since 3.3 and will be removed two minor releases later; use 'mathtext.fallback : 'cm' instead.\n",
      "In /home/alina/.local/lib/python3.6/site-packages/matplotlib/mpl-data/stylelib/_classic_test.mplstyle: \n",
      "The validate_bool_maybe_none function was deprecated in Matplotlib 3.3 and will be removed two minor releases later.\n",
      "In /home/alina/.local/lib/python3.6/site-packages/matplotlib/mpl-data/stylelib/_classic_test.mplstyle: \n",
      "The savefig.jpeg_quality rcparam was deprecated in Matplotlib 3.3 and will be removed two minor releases later.\n",
      "In /home/alina/.local/lib/python3.6/site-packages/matplotlib/mpl-data/stylelib/_classic_test.mplstyle: \n",
      "The keymap.all_axes rcparam was deprecated in Matplotlib 3.3 and will be removed two minor releases later.\n",
      "In /home/alina/.local/lib/python3.6/site-packages/matplotlib/mpl-data/stylelib/_classic_test.mplstyle: \n",
      "The animation.avconv_path rcparam was deprecated in Matplotlib 3.3 and will be removed two minor releases later.\n",
      "In /home/alina/.local/lib/python3.6/site-packages/matplotlib/mpl-data/stylelib/_classic_test.mplstyle: \n",
      "The animation.avconv_args rcparam was deprecated in Matplotlib 3.3 and will be removed two minor releases later.\n",
      "[nltk_data] Downloading package stopwords to /home/alina/nltk_data...\n",
      "[nltk_data]   Package stopwords is already up-to-date!\n"
     ]
    },
    {
     "data": {
      "text/plain": [
       "True"
      ]
     },
     "execution_count": 17,
     "metadata": {},
     "output_type": "execute_result"
    }
   ],
   "source": [
    "import os\n",
    "from sklearn.feature_extraction.text import CountVectorizer\n",
    "import random\n",
    "from nltk.corpus import stopwords\n",
    "from sklearn import preprocessing\n",
    "import matplotlib.pyplot as plt\n",
    "from sklearn import metrics\n",
    "import numpy as np\n",
    "\n",
    "import nltk\n",
    "nltk.download('stopwords')"
   ]
  },
  {
   "cell_type": "markdown",
   "metadata": {},
   "source": [
    "### Prepare input data from the BBC dataset"
   ]
  },
  {
   "cell_type": "code",
   "execution_count": 18,
   "metadata": {
    "pycharm": {
     "name": "#%%\n"
    }
   },
   "outputs": [],
   "source": [
    "dataset_path = \"./datasets/bbc\" # http://mlg.ucd.ie/files/datasets/bbc-fulltext.zip\n",
    "bbc_dataset = pd.DataFrame([], columns = ['class_name', 'text'])\n",
    "\n",
    "list_topic_folders = os.listdir(\"{}/\".format(dataset_path))\n",
    "for topic_folder in list_topic_folders:\n",
    "    if \"txt\" not in topic_folder.lower():\n",
    "        list_of_files = os.listdir(\"{}/{}\".format(dataset_path, topic_folder))\n",
    "        for file in list_of_files:\n",
    "            if file.find(\".txt\") != -1 and file.find(\"ipynb\") == -1:\n",
    "                with open(\"{}/{}/{}\".format(dataset_path, topic_folder, file), 'rb') as f:\n",
    "                    text = f.read()\n",
    "                text = text.decode('windows-1252').replace('\\n', ' ')\n",
    "                bbc_dataset = bbc_dataset.append(pd.DataFrame([[topic_folder, text]], columns = ['class_name', 'text']))\n",
    "bbc_dataset = bbc_dataset.reset_index(drop=True)"
   ]
  },
  {
   "cell_type": "markdown",
   "metadata": {},
   "source": [
    "Get data for business and politics classes to form the core of the data set"
   ]
  },
  {
   "cell_type": "code",
   "execution_count": 19,
   "metadata": {},
   "outputs": [],
   "source": [
    "bus_and_pol = bbc_dataset[(bbc_dataset['class_name'] == \"business\") | (bbc_dataset['class_name'] == \"politics\")]\n",
    "df_bus_and_pol_texts = pd.DataFrame(list(bus_and_pol.text.values), columns=['text'])\n",
    "df_bus_and_pol_texts['y_true'] = 0"
   ]
  },
  {
   "cell_type": "markdown",
   "metadata": {},
   "source": [
    "Get 50 random outliers documents from tech class"
   ]
  },
  {
   "cell_type": "code",
   "execution_count": 20,
   "metadata": {},
   "outputs": [],
   "source": [
    "text_for_outliers = bbc_dataset[bbc_dataset['class_name'] == \"tech\"]\n",
    "\n",
    "random.seed(1)\n",
    "text_for_outliers = text_for_outliers.iloc[random.sample(range(0, len(text_for_outliers)), 50)]\n",
    "df_outliers = pd.DataFrame(list(text_for_outliers.text.values), columns=['text'])\n",
    "df_outliers['y_true'] = 1"
   ]
  },
  {
   "cell_type": "markdown",
   "metadata": {},
   "source": [
    "Add outliers documents to the core data set and shuffle"
   ]
  },
  {
   "cell_type": "code",
   "execution_count": 21,
   "metadata": {},
   "outputs": [
    {
     "data": {
      "text/html": [
       "<div>\n",
       "<style scoped>\n",
       "    .dataframe tbody tr th:only-of-type {\n",
       "        vertical-align: middle;\n",
       "    }\n",
       "\n",
       "    .dataframe tbody tr th {\n",
       "        vertical-align: top;\n",
       "    }\n",
       "\n",
       "    .dataframe thead th {\n",
       "        text-align: right;\n",
       "    }\n",
       "</style>\n",
       "<table border=\"1\" class=\"dataframe\">\n",
       "  <thead>\n",
       "    <tr style=\"text-align: right;\">\n",
       "      <th></th>\n",
       "      <th>text</th>\n",
       "      <th>y_true</th>\n",
       "    </tr>\n",
       "  </thead>\n",
       "  <tbody>\n",
       "    <tr>\n",
       "      <th>0</th>\n",
       "      <td>Hague's six-figure earnings shown The rewards ...</td>\n",
       "      <td>0</td>\n",
       "    </tr>\n",
       "    <tr>\n",
       "      <th>1</th>\n",
       "      <td>Kilroy launches 'Veritas' party Ex-BBC chat sh...</td>\n",
       "      <td>0</td>\n",
       "    </tr>\n",
       "    <tr>\n",
       "      <th>2</th>\n",
       "      <td>Pension hitch long-living men Male life expect...</td>\n",
       "      <td>0</td>\n",
       "    </tr>\n",
       "    <tr>\n",
       "      <th>3</th>\n",
       "      <td>Building giant asbestos payout Australian buil...</td>\n",
       "      <td>0</td>\n",
       "    </tr>\n",
       "    <tr>\n",
       "      <th>4</th>\n",
       "      <td>$1m payoff former Shell boss Shell pay $1m (Â£...</td>\n",
       "      <td>0</td>\n",
       "    </tr>\n",
       "    <tr>\n",
       "      <th>...</th>\n",
       "      <td>...</td>\n",
       "      <td>...</td>\n",
       "    </tr>\n",
       "    <tr>\n",
       "      <th>972</th>\n",
       "      <td>Tories plan migrant health checks Non-European...</td>\n",
       "      <td>0</td>\n",
       "    </tr>\n",
       "    <tr>\n",
       "      <th>973</th>\n",
       "      <td>Liberian economy starts grow The Liberian econ...</td>\n",
       "      <td>0</td>\n",
       "    </tr>\n",
       "    <tr>\n",
       "      <th>974</th>\n",
       "      <td>US bank 'loses' customer details The Bank Amer...</td>\n",
       "      <td>0</td>\n",
       "    </tr>\n",
       "    <tr>\n",
       "      <th>975</th>\n",
       "      <td>Honour UK games maker Leading British computer...</td>\n",
       "      <td>1</td>\n",
       "    </tr>\n",
       "    <tr>\n",
       "      <th>976</th>\n",
       "      <td>Fannie Mae 'should restate books' US mortgage ...</td>\n",
       "      <td>0</td>\n",
       "    </tr>\n",
       "  </tbody>\n",
       "</table>\n",
       "<p>977 rows × 2 columns</p>\n",
       "</div>"
      ],
      "text/plain": [
       "                                                  text  y_true\n",
       "0    Hague's six-figure earnings shown The rewards ...       0\n",
       "1    Kilroy launches 'Veritas' party Ex-BBC chat sh...       0\n",
       "2    Pension hitch long-living men Male life expect...       0\n",
       "3    Building giant asbestos payout Australian buil...       0\n",
       "4    $1m payoff former Shell boss Shell pay $1m (Â£...       0\n",
       "..                                                 ...     ...\n",
       "972  Tories plan migrant health checks Non-European...       0\n",
       "973  Liberian economy starts grow The Liberian econ...       0\n",
       "974  US bank 'loses' customer details The Bank Amer...       0\n",
       "975  Honour UK games maker Leading British computer...       1\n",
       "976  Fannie Mae 'should restate books' US mortgage ...       0\n",
       "\n",
       "[977 rows x 2 columns]"
      ]
     },
     "execution_count": 21,
     "metadata": {},
     "output_type": "execute_result"
    }
   ],
   "source": [
    "df_test = pd.concat([df_bus_and_pol_texts, df_outliers])\n",
    "df_test = df_test.sample(frac=1).reset_index(drop=True)\n",
    "\n",
    "stop = stopwords.words('english')\n",
    "\n",
    "df_test['text'] = df_test['text'].apply(lambda x: ' '.join([word for word in x.split() if word not in (stop)]))\n",
    "df_test"
   ]
  },
  {
   "cell_type": "markdown",
   "metadata": {},
   "source": [
    "Convert texts to the bag of words"
   ]
  },
  {
   "cell_type": "code",
   "execution_count": 22,
   "metadata": {
    "pycharm": {
     "name": "#%%\n"
    }
   },
   "outputs": [],
   "source": [
    "vectorizer = CountVectorizer()\n",
    "bag_of_words = vectorizer.fit_transform(df_test['text']).todense()"
   ]
  },
  {
   "cell_type": "markdown",
   "metadata": {},
   "source": [
    "## TONMF"
   ]
  },
  {
   "cell_type": "markdown",
   "metadata": {},
   "source": [
    "The function [`tonmf()`](https://alinapetukhova.github.io/textcl/docs/outliers_detection.html#textcl.outliers_detection.tonmf) to use TONMF algorithm to get the outlier\\_matrix. Solution is based on the non-negative matrix factorization with the extension of the block coordinate descent framework"
   ]
  },
  {
   "cell_type": "code",
   "execution_count": 23,
   "metadata": {
    "pycharm": {
     "name": "#%%\n"
    }
   },
   "outputs": [],
   "source": [
    "outlier_matrix,_,_,_ = textcl.tonmf(bag_of_words, k=10, alpha=10, beta=0.05)"
   ]
  },
  {
   "cell_type": "markdown",
   "metadata": {},
   "source": [
    "Normalize with l2-normalization"
   ]
  },
  {
   "cell_type": "code",
   "execution_count": 24,
   "metadata": {
    "pycharm": {
     "name": "#%%\n"
    }
   },
   "outputs": [
    {
     "name": "stderr",
     "output_type": "stream",
     "text": [
      "/home/alina/.local/lib/python3.6/site-packages/ipykernel_launcher.py:10: UserWarning: Matplotlib is currently using module://ipykernel.pylab.backend_inline, which is a non-GUI backend, so cannot show the figure.\n",
      "  # Remove the CWD from sys.path while we load stuff.\n"
     ]
    },
    {
     "data": {
      "image/png": "[encoded data removed]",
      "text/plain": [
       "<Figure size 720x576 with 1 Axes>"
      ]
     },
     "metadata": {
      "needs_background": "light"
     },
     "output_type": "display_data"
    }
   ],
   "source": [
    "_, y_pred = preprocessing.normalize(outlier_matrix, axis = 1, norm = 'l2', return_norm = True)\n",
    "\n",
    "f = plt.figure(figsize=(10, 8))\n",
    "fpr, tpr, thresholds = metrics.roc_curve(list(df_test['y_true'].values), y_pred, pos_label=1)\n",
    "plt.plot(fpr, tpr, label='ROC curve')\n",
    "plt.plot([0, 1], [0, 1])\n",
    "plt.xlabel('False Positive Rate')\n",
    "plt.ylabel('True Positive Rate')\n",
    "# plt.title('BBC dataset TONMF ROC-curve. K=3, alpha = 1, beta = 0.5')\n",
    "f.show()"
   ]
  },
  {
   "cell_type": "code",
   "execution_count": 25,
   "metadata": {},
   "outputs": [],
   "source": [
    "f.savefig(\"BBC dataset TONMF ROC-curve. K=3, alpha = 1, beta = 0.5.pdf\", bbox_inches='tight')"
   ]
  },
  {
   "cell_type": "markdown",
   "metadata": {},
   "source": [
    "Display ℓ2 norm of columns of Z outlier matrix"
   ]
  },
  {
   "cell_type": "code",
   "execution_count": 26,
   "metadata": {
    "pycharm": {
     "name": "#%%\n"
    }
   },
   "outputs": [
    {
     "name": "stderr",
     "output_type": "stream",
     "text": [
      "/home/alina/.local/lib/python3.6/site-packages/ipykernel_launcher.py:9: UserWarning: Matplotlib is currently using module://ipykernel.pylab.backend_inline, which is a non-GUI backend, so cannot show the figure.\n",
      "  if __name__ == '__main__':\n"
     ]
    },
    {
     "data": {
      "image/png": "[encoded data removed]",
      "text/plain": [
       "<Figure size 1440x432 with 1 Axes>"
      ]
     },
     "metadata": {
      "needs_background": "light"
     },
     "output_type": "display_data"
    }
   ],
   "source": [
    "colors_array = np.array(list(df_test['y_true'].values)).astype('str')\n",
    "colors_array[colors_array == '1'] = 'r'\n",
    "colors_array[colors_array != 'r'] = 'b'\n",
    "\n",
    "f = plt.figure(figsize=(20, 6))\n",
    "index = range(0, len(y_pred))\n",
    "plt.bar(index, y_pred, color = colors_array)\n",
    "# plt.title(\"Results of TONMF+L2 (outliers - red, non-outliers - blue)\", size = 20)\n",
    "f.show()"
   ]
  },
  {
   "cell_type": "code",
   "execution_count": 27,
   "metadata": {},
   "outputs": [],
   "source": [
    "f.savefig(\"Results of TONMF+L2 (outliers - red, non-outliers - blue).pdf\", bbox_inches='tight')"
   ]
  },
  {
   "cell_type": "markdown",
   "metadata": {},
   "source": [
    "## RPCA"
   ]
  },
  {
   "cell_type": "markdown",
   "metadata": {},
   "source": [
    "Function [`rpca_implementation()`](https://alinapetukhova.github.io/textcl/docs/outliers_detection.html#textcl.outliers_detection.rpca_implementation) to use Robust Principal Component Analysis (RPCA) to get the outlier\\_matrix. RPCA uses low rank approximation and yields two matrices: low rank matrix $L$ and a sparse matrix $S$. After normalization, the $S$ matrix represents the outlier score for the document."
   ]
  },
  {
   "cell_type": "code",
   "execution_count": 28,
   "metadata": {
    "pycharm": {
     "name": "#%%\n"
    }
   },
   "outputs": [],
   "source": [
    "outlier_matrix = textcl.rpca_implementation(bag_of_words)"
   ]
  },
  {
   "cell_type": "markdown",
   "metadata": {},
   "source": [
    "Normalize with l2-normalization"
   ]
  },
  {
   "cell_type": "code",
   "execution_count": 29,
   "metadata": {
    "pycharm": {
     "name": "#%%\n"
    }
   },
   "outputs": [
    {
     "data": {
      "text/plain": [
       "Text(0, 0.5, 'True Positive Rate')"
      ]
     },
     "execution_count": 29,
     "metadata": {},
     "output_type": "execute_result"
    },
    {
     "data": {
      "image/png": "[encoded data removed]",
      "text/plain": [
       "<Figure size 720x576 with 1 Axes>"
      ]
     },
     "metadata": {
      "needs_background": "light"
     },
     "output_type": "display_data"
    }
   ],
   "source": [
    "_, y_pred = preprocessing.normalize(outlier_matrix, axis = 1, norm = 'l2', return_norm = True)\n",
    "\n",
    "f = plt.figure(figsize=(10, 8))\n",
    "fpr, tpr, thresholds = metrics.roc_curve(list(df_test['y_true'].values), y_pred, pos_label=1)\n",
    "plt.plot(fpr, tpr, label='ROC curve')\n",
    "plt.plot([0, 1], [0, 1])\n",
    "plt.xlabel('False Positive Rate')\n",
    "plt.ylabel('True Positive Rate')\n",
    "# plt.title('BBC dataset RPCA ROC-curve')"
   ]
  },
  {
   "cell_type": "code",
   "execution_count": 30,
   "metadata": {},
   "outputs": [],
   "source": [
    "f.savefig(\"BBC dataset RPCA ROC-curve.pdf\", bbox_inches='tight')"
   ]
  },
  {
   "cell_type": "markdown",
   "metadata": {},
   "source": [
    "Display ℓ2 norm of columns of Z outlier matrix"
   ]
  },
  {
   "cell_type": "code",
   "execution_count": 31,
   "metadata": {
    "pycharm": {
     "name": "#%%\n"
    }
   },
   "outputs": [
    {
     "data": {
      "text/plain": [
       "<BarContainer object of 977 artists>"
      ]
     },
     "execution_count": 31,
     "metadata": {},
     "output_type": "execute_result"
    },
    {
     "data": {
      "image/png": "[encoded data removed]",
      "text/plain": [
       "<Figure size 1440x432 with 1 Axes>"
      ]
     },
     "metadata": {
      "needs_background": "light"
     },
     "output_type": "display_data"
    }
   ],
   "source": [
    "colors_array = np.array(list(df_test['y_true'].values)).astype('str')\n",
    "colors_array[colors_array == '1'] = 'r'\n",
    "colors_array[colors_array != 'r'] = 'b'\n",
    "\n",
    "f = plt.figure(figsize=(20, 6))\n",
    "plt.ylim(0.001, 0.00175)\n",
    "index = range(0, len(y_pred))\n",
    "plt.bar(index, y_pred, color = colors_array)\n",
    "# plt.title(\"Results of RPCA+L2 (outliers - red, non-outliers - blue)\", size = 20)"
   ]
  },
  {
   "cell_type": "code",
   "execution_count": 32,
   "metadata": {},
   "outputs": [],
   "source": [
    "f.savefig(\"Results of RPCA+L2 (outliers - red, non-outliers - blue).pdf\", bbox_inches='tight')"
   ]
  },
  {
   "cell_type": "markdown",
   "metadata": {},
   "source": [
    "## SVD"
   ]
  },
  {
   "cell_type": "markdown",
   "metadata": {},
   "source": [
    "Function [`svd()`](https://alinapetukhova.github.io/textcl/docs/outliers_detection.html#textcl.outliers_detection.svd) to use singular value decomposition (SVD) to get the outlier_matrix. SVD function used from `np.linalg` and outlier matrix is presented as multiplication of square root of diagonal elements of the rectangular diagonal matrix $S$ and complex unitary matrix"
   ]
  },
  {
   "cell_type": "code",
   "execution_count": 33,
   "metadata": {
    "pycharm": {
     "name": "#%%\n"
    }
   },
   "outputs": [],
   "source": [
    "outlier_matrix = textcl.svd(bag_of_words)"
   ]
  },
  {
   "cell_type": "markdown",
   "metadata": {},
   "source": [
    "Normalize with l2-normalization"
   ]
  },
  {
   "cell_type": "code",
   "execution_count": 34,
   "metadata": {
    "pycharm": {
     "name": "#%%\n"
    }
   },
   "outputs": [
    {
     "data": {
      "text/plain": [
       "Text(0, 0.5, 'True Positive Rate')"
      ]
     },
     "execution_count": 34,
     "metadata": {},
     "output_type": "execute_result"
    },
    {
     "data": {
      "image/png": "[encoded data removed]",
      "text/plain": [
       "<Figure size 720x576 with 1 Axes>"
      ]
     },
     "metadata": {
      "needs_background": "light"
     },
     "output_type": "display_data"
    }
   ],
   "source": [
    "_, y_pred = preprocessing.normalize(outlier_matrix, axis = 1, norm = 'l2', return_norm = True)\n",
    "\n",
    "f = plt.figure(figsize=(10, 8))\n",
    "fpr, tpr, thresholds = metrics.roc_curve(list(df_test['y_true'].values), y_pred, pos_label=1)\n",
    "plt.plot(fpr, tpr, label='ROC curve')\n",
    "plt.plot([0, 1], [0, 1])\n",
    "plt.xlabel('False Positive Rate')\n",
    "plt.ylabel('True Positive Rate')\n",
    "# plt.title('BBC dataset SVD ROC-curve')"
   ]
  },
  {
   "cell_type": "code",
   "execution_count": 35,
   "metadata": {},
   "outputs": [],
   "source": [
    "f.savefig(\"BBC dataset SVD ROC-curve.pdf\", bbox_inches='tight')"
   ]
  },
  {
   "cell_type": "markdown",
   "metadata": {},
   "source": [
    "Display ℓ2 norm of columns of Z outlier matrix"
   ]
  },
  {
   "cell_type": "code",
   "execution_count": 36,
   "metadata": {
    "pycharm": {
     "name": "#%%\n"
    }
   },
   "outputs": [
    {
     "data": {
      "text/plain": [
       "<BarContainer object of 977 artists>"
      ]
     },
     "execution_count": 36,
     "metadata": {},
     "output_type": "execute_result"
    },
    {
     "data": {
      "image/png": "[encoded data removed]",
      "text/plain": [
       "<Figure size 1440x432 with 1 Axes>"
      ]
     },
     "metadata": {
      "needs_background": "light"
     },
     "output_type": "display_data"
    }
   ],
   "source": [
    "colors_array = np.array(list(df_test['y_true'].values)).astype('str')\n",
    "colors_array[colors_array == '1'] = 'r'\n",
    "colors_array[colors_array != 'r'] = 'b'\n",
    "\n",
    "f = plt.figure(figsize=(20, 6))\n",
    "# plt.ylim(0.001, 0.00175)\n",
    "index = range(0, len(y_pred))\n",
    "plt.bar(index, y_pred, color = colors_array)\n",
    "# plt.title(\"Results of SVD+L2 (outliers - red, non-outliers - blue)\", size = 20)\n",
    "\n",
    "\n"
   ]
  },
  {
   "cell_type": "code",
   "execution_count": 37,
   "metadata": {},
   "outputs": [],
   "source": [
    "f.savefig(\"Results of SVD+L2 (outliers - red, non-outliers - blue).pdf\", bbox_inches='tight')"
   ]
  }
 ],
 "metadata": {
  "kernelspec": {
   "display_name": "Python 3",
   "language": "python",
   "name": "python3"
  },
  "language_info": {
   "codemirror_mode": {
    "name": "ipython",
    "version": 3
   },
   "file_extension": ".py",
   "mimetype": "text/x-python",
   "name": "python",
   "nbconvert_exporter": "python",
   "pygments_lexer": "ipython3",
   "version": "3.6.9"
  },
  "pycharm": {
   "stem_cell": {
    "cell_type": "raw",
    "source": [],
    "metadata": {
     "collapsed": false
    }
   }
  }
 },
 "nbformat": 4,
 "nbformat_minor": 4
}