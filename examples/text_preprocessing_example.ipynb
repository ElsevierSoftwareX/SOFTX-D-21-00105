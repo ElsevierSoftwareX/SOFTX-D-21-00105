{
 "cells": [
  {
   "cell_type": "markdown",
   "metadata": {},
   "source": [
    "# Examples of functions:\n",
    "- split_into_sentences\n",
    "- language_filtering\n",
    "- jaccard_sim_filtering\n",
    "- perplexity_filtering "
   ]
  },
  {
   "cell_type": "markdown",
   "metadata": {},
   "source": [
    "## Load package and dependencies"
   ]
  },
  {
   "cell_type": "code",
   "execution_count": 1,
   "metadata": {},
   "outputs": [],
   "source": [
    "import textcl\n",
    "import pandas as pd"
   ]
  },
  {
   "cell_type": "markdown",
   "metadata": {},
   "source": [
    "## Prepare input data from modified the BBC dataset"
   ]
  },
  {
   "cell_type": "markdown",
   "metadata": {},
   "source": [
    "Load the text data you want to process. It's necessary to have column `text` in the data (default name). If you don't have `text` column you will need to specify the name for **split_into_sentences** function using `text_col` parameter. Source file from this example structured as follows:"
   ]
  },
  {
   "cell_type": "code",
   "execution_count": 2,
   "metadata": {},
   "outputs": [
    {
     "data": {
      "text/html": [
       "<div>\n",
       "<style scoped>\n",
       "    .dataframe tbody tr th:only-of-type {\n",
       "        vertical-align: middle;\n",
       "    }\n",
       "\n",
       "    .dataframe tbody tr th {\n",
       "        vertical-align: top;\n",
       "    }\n",
       "\n",
       "    .dataframe thead th {\n",
       "        text-align: right;\n",
       "    }\n",
       "</style>\n",
       "<table border=\"1\" class=\"dataframe\">\n",
       "  <thead>\n",
       "    <tr style=\"text-align: right;\">\n",
       "      <th></th>\n",
       "      <th>index</th>\n",
       "      <th>topic_name</th>\n",
       "      <th>text</th>\n",
       "    </tr>\n",
       "  </thead>\n",
       "  <tbody>\n",
       "    <tr>\n",
       "      <th>0</th>\n",
       "      <td>0</td>\n",
       "      <td>business</td>\n",
       "      <td>WorldCom bosses' $54m payout  Ten former direc...</td>\n",
       "    </tr>\n",
       "    <tr>\n",
       "      <th>1</th>\n",
       "      <td>1</td>\n",
       "      <td>business</td>\n",
       "      <td>Profits slide at India's Dr Reddy  Profits at ...</td>\n",
       "    </tr>\n",
       "    <tr>\n",
       "      <th>2</th>\n",
       "      <td>2</td>\n",
       "      <td>business</td>\n",
       "      <td>Liberian economy starts to grow  The Liberian ...</td>\n",
       "    </tr>\n",
       "    <tr>\n",
       "      <th>3</th>\n",
       "      <td>3</td>\n",
       "      <td>business</td>\n",
       "      <td>Uluslararası Para Fonu (IMF), Liberya ekonomis...</td>\n",
       "    </tr>\n",
       "    <tr>\n",
       "      <th>4</th>\n",
       "      <td>4</td>\n",
       "      <td>entertainment</td>\n",
       "      <td>Singer Ian Brown 'in gig arrest'  Former Stone...</td>\n",
       "    </tr>\n",
       "    <tr>\n",
       "      <th>5</th>\n",
       "      <td>5</td>\n",
       "      <td>entertainment</td>\n",
       "      <td>Blue beat U2 to top France honour  Irish band ...</td>\n",
       "    </tr>\n",
       "    <tr>\n",
       "      <th>6</th>\n",
       "      <td>6</td>\n",
       "      <td>entertainment</td>\n",
       "      <td>Housewives lift Channel 4 ratings  The debut o...</td>\n",
       "    </tr>\n",
       "    <tr>\n",
       "      <th>7</th>\n",
       "      <td>7</td>\n",
       "      <td>entertainment</td>\n",
       "      <td>Домохозяйки подняли рейтинги канала 4 Дебют ам...</td>\n",
       "    </tr>\n",
       "    <tr>\n",
       "      <th>8</th>\n",
       "      <td>8</td>\n",
       "      <td>entertainment</td>\n",
       "      <td>Housewives Channel 4 reytinglerini yükseltti A...</td>\n",
       "    </tr>\n",
       "    <tr>\n",
       "      <th>9</th>\n",
       "      <td>9</td>\n",
       "      <td>politics</td>\n",
       "      <td>Observers to monitor UK election  Ministers wi...</td>\n",
       "    </tr>\n",
       "    <tr>\n",
       "      <th>10</th>\n",
       "      <td>10</td>\n",
       "      <td>politics</td>\n",
       "      <td>Lib Dems highlight problem debt  People vulner...</td>\n",
       "    </tr>\n",
       "    <tr>\n",
       "      <th>11</th>\n",
       "      <td>11</td>\n",
       "      <td>politics</td>\n",
       "      <td>Minister defends hunting ban law  The law bann...</td>\n",
       "    </tr>\n",
       "    <tr>\n",
       "      <th>12</th>\n",
       "      <td>12</td>\n",
       "      <td>sport</td>\n",
       "      <td>Legendary Dutch boss Michels dies  Legendary D...</td>\n",
       "    </tr>\n",
       "    <tr>\n",
       "      <th>13</th>\n",
       "      <td>13</td>\n",
       "      <td>sport</td>\n",
       "      <td>Connors boost for British tennis  Former world...</td>\n",
       "    </tr>\n",
       "    <tr>\n",
       "      <th>14</th>\n",
       "      <td>14</td>\n",
       "      <td>sport</td>\n",
       "      <td>Sociedad set to rescue Mladenovic  Rangers are...</td>\n",
       "    </tr>\n",
       "    <tr>\n",
       "      <th>15</th>\n",
       "      <td>15</td>\n",
       "      <td>tech</td>\n",
       "      <td>Mobile games come of age  The BBC News website...</td>\n",
       "    </tr>\n",
       "    <tr>\n",
       "      <th>16</th>\n",
       "      <td>16</td>\n",
       "      <td>tech</td>\n",
       "      <td>PlayStation 3 processor unveiled  The Cell pro...</td>\n",
       "    </tr>\n",
       "    <tr>\n",
       "      <th>17</th>\n",
       "      <td>17</td>\n",
       "      <td>tech</td>\n",
       "      <td>PC photo printers challenge printed pictures c...</td>\n",
       "    </tr>\n",
       "    <tr>\n",
       "      <th>18</th>\n",
       "      <td>18</td>\n",
       "      <td>tech</td>\n",
       "      <td>PC photo printers challenge pros  Home printed...</td>\n",
       "    </tr>\n",
       "    <tr>\n",
       "      <th>19</th>\n",
       "      <td>19</td>\n",
       "      <td>tech</td>\n",
       "      <td>processor come pros 43 t6 43 Table data 342 5 ...</td>\n",
       "    </tr>\n",
       "    <tr>\n",
       "      <th>20</th>\n",
       "      <td>20</td>\n",
       "      <td>tech</td>\n",
       "      <td>Janice Dean currently serves as senior meteoro...</td>\n",
       "    </tr>\n",
       "  </tbody>\n",
       "</table>\n",
       "</div>"
      ],
      "text/plain": [
       "    index     topic_name                                               text\n",
       "0       0       business  WorldCom bosses' $54m payout  Ten former direc...\n",
       "1       1       business  Profits slide at India's Dr Reddy  Profits at ...\n",
       "2       2       business  Liberian economy starts to grow  The Liberian ...\n",
       "3       3       business  Uluslararası Para Fonu (IMF), Liberya ekonomis...\n",
       "4       4  entertainment  Singer Ian Brown 'in gig arrest'  Former Stone...\n",
       "5       5  entertainment  Blue beat U2 to top France honour  Irish band ...\n",
       "6       6  entertainment  Housewives lift Channel 4 ratings  The debut o...\n",
       "7       7  entertainment  Домохозяйки подняли рейтинги канала 4 Дебют ам...\n",
       "8       8  entertainment  Housewives Channel 4 reytinglerini yükseltti A...\n",
       "9       9       politics  Observers to monitor UK election  Ministers wi...\n",
       "10     10       politics  Lib Dems highlight problem debt  People vulner...\n",
       "11     11       politics  Minister defends hunting ban law  The law bann...\n",
       "12     12          sport  Legendary Dutch boss Michels dies  Legendary D...\n",
       "13     13          sport  Connors boost for British tennis  Former world...\n",
       "14     14          sport  Sociedad set to rescue Mladenovic  Rangers are...\n",
       "15     15           tech  Mobile games come of age  The BBC News website...\n",
       "16     16           tech  PlayStation 3 processor unveiled  The Cell pro...\n",
       "17     17           tech  PC photo printers challenge printed pictures c...\n",
       "18     18           tech  PC photo printers challenge pros  Home printed...\n",
       "19     19           tech  processor come pros 43 t6 43 Table data 342 5 ...\n",
       "20     20           tech  Janice Dean currently serves as senior meteoro..."
      ]
     },
     "execution_count": 2,
     "metadata": {},
     "output_type": "execute_result"
    }
   ],
   "source": [
    "SOURCE_FILE_PATH = 'prepared_bbc_dataset.csv'\n",
    "\n",
    "# getting text data from file\n",
    "input_texts_df = pd.read_csv(SOURCE_FILE_PATH).reset_index()\n",
    "input_texts_df"
   ]
  },
  {
   "cell_type": "markdown",
   "metadata": {},
   "source": [
    "## Split texts into sentences"
   ]
  },
  {
   "cell_type": "markdown",
   "metadata": {},
   "source": [
    "If `sentence_col` is not specified as a parameter, created sentences will be saved in the `sentence` column.|"
   ]
  },
  {
   "cell_type": "code",
   "execution_count": 3,
   "metadata": {},
   "outputs": [
    {
     "name": "stdout",
     "output_type": "stream",
     "text": [
      "Num sentences before filtering: 319\n"
     ]
    }
   ],
   "source": [
    "split_input_texts_df = textcl.split_into_sentences(input_texts_df)\n",
    "print(\"Num sentences before filtering: {}\".format(len(split_input_texts_df)))"
   ]
  },
  {
   "cell_type": "code",
   "execution_count": 4,
   "metadata": {},
   "outputs": [
    {
     "data": {
      "text/html": [
       "<div>\n",
       "<style scoped>\n",
       "    .dataframe tbody tr th:only-of-type {\n",
       "        vertical-align: middle;\n",
       "    }\n",
       "\n",
       "    .dataframe tbody tr th {\n",
       "        vertical-align: top;\n",
       "    }\n",
       "\n",
       "    .dataframe thead th {\n",
       "        text-align: right;\n",
       "    }\n",
       "</style>\n",
       "<table border=\"1\" class=\"dataframe\">\n",
       "  <thead>\n",
       "    <tr style=\"text-align: right;\">\n",
       "      <th></th>\n",
       "      <th>index</th>\n",
       "      <th>topic_name</th>\n",
       "      <th>text</th>\n",
       "      <th>sentence</th>\n",
       "    </tr>\n",
       "  </thead>\n",
       "  <tbody>\n",
       "    <tr>\n",
       "      <th>0</th>\n",
       "      <td>0</td>\n",
       "      <td>business</td>\n",
       "      <td>WorldCom bosses' $54m payout  Ten former direc...</td>\n",
       "      <td>WorldCom bosses' $54m payout  Ten former direc...</td>\n",
       "    </tr>\n",
       "    <tr>\n",
       "      <th>1</th>\n",
       "      <td>0</td>\n",
       "      <td>business</td>\n",
       "      <td>WorldCom bosses' $54m payout  Ten former direc...</td>\n",
       "      <td>James Wareham, a lawyer representing one of t...</td>\n",
       "    </tr>\n",
       "    <tr>\n",
       "      <th>2</th>\n",
       "      <td>0</td>\n",
       "      <td>business</td>\n",
       "      <td>WorldCom bosses' $54m payout  Ten former direc...</td>\n",
       "      <td>The remaining $36m will be paid by the directo...</td>\n",
       "    </tr>\n",
       "    <tr>\n",
       "      <th>3</th>\n",
       "      <td>0</td>\n",
       "      <td>business</td>\n",
       "      <td>WorldCom bosses' $54m payout  Ten former direc...</td>\n",
       "      <td>But, a spokesman for the prosecutor, New York ...</td>\n",
       "    </tr>\n",
       "    <tr>\n",
       "      <th>4</th>\n",
       "      <td>0</td>\n",
       "      <td>business</td>\n",
       "      <td>WorldCom bosses' $54m payout  Ten former direc...</td>\n",
       "      <td>Corporate governance experts said that if the...</td>\n",
       "    </tr>\n",
       "  </tbody>\n",
       "</table>\n",
       "</div>"
      ],
      "text/plain": [
       "   index topic_name                                               text  \\\n",
       "0      0   business  WorldCom bosses' $54m payout  Ten former direc...   \n",
       "1      0   business  WorldCom bosses' $54m payout  Ten former direc...   \n",
       "2      0   business  WorldCom bosses' $54m payout  Ten former direc...   \n",
       "3      0   business  WorldCom bosses' $54m payout  Ten former direc...   \n",
       "4      0   business  WorldCom bosses' $54m payout  Ten former direc...   \n",
       "\n",
       "                                            sentence  \n",
       "0  WorldCom bosses' $54m payout  Ten former direc...  \n",
       "1   James Wareham, a lawyer representing one of t...  \n",
       "2  The remaining $36m will be paid by the directo...  \n",
       "3  But, a spokesman for the prosecutor, New York ...  \n",
       "4   Corporate governance experts said that if the...  "
      ]
     },
     "execution_count": 4,
     "metadata": {},
     "output_type": "execute_result"
    }
   ],
   "source": [
    "split_input_texts_df.head()"
   ]
  },
  {
   "cell_type": "markdown",
   "metadata": {},
   "source": [
    "## Filtering on language"
   ]
  },
  {
   "cell_type": "code",
   "execution_count": 5,
   "metadata": {},
   "outputs": [
    {
     "name": "stdout",
     "output_type": "stream",
     "text": [
      "Num sentences after language filtering: 279\n"
     ]
    }
   ],
   "source": [
    "split_input_texts_df = textcl.language_filtering(split_input_texts_df, threshold=0.99, language='en')\n",
    "print(\"Num sentences after language filtering: {}\".format(len(split_input_texts_df)))"
   ]
  },
  {
   "cell_type": "code",
   "execution_count": 6,
   "metadata": {},
   "outputs": [
    {
     "data": {
      "text/html": [
       "<div>\n",
       "<style scoped>\n",
       "    .dataframe tbody tr th:only-of-type {\n",
       "        vertical-align: middle;\n",
       "    }\n",
       "\n",
       "    .dataframe tbody tr th {\n",
       "        vertical-align: top;\n",
       "    }\n",
       "\n",
       "    .dataframe thead th {\n",
       "        text-align: right;\n",
       "    }\n",
       "</style>\n",
       "<table border=\"1\" class=\"dataframe\">\n",
       "  <thead>\n",
       "    <tr style=\"text-align: right;\">\n",
       "      <th></th>\n",
       "      <th>index</th>\n",
       "      <th>topic_name</th>\n",
       "      <th>text</th>\n",
       "      <th>sentence</th>\n",
       "    </tr>\n",
       "  </thead>\n",
       "  <tbody>\n",
       "    <tr>\n",
       "      <th>0</th>\n",
       "      <td>0</td>\n",
       "      <td>business</td>\n",
       "      <td>WorldCom bosses' $54m payout  Ten former direc...</td>\n",
       "      <td>WorldCom bosses' $54m payout  Ten former direc...</td>\n",
       "    </tr>\n",
       "    <tr>\n",
       "      <th>1</th>\n",
       "      <td>0</td>\n",
       "      <td>business</td>\n",
       "      <td>WorldCom bosses' $54m payout  Ten former direc...</td>\n",
       "      <td>James Wareham, a lawyer representing one of t...</td>\n",
       "    </tr>\n",
       "    <tr>\n",
       "      <th>2</th>\n",
       "      <td>0</td>\n",
       "      <td>business</td>\n",
       "      <td>WorldCom bosses' $54m payout  Ten former direc...</td>\n",
       "      <td>The remaining $36m will be paid by the directo...</td>\n",
       "    </tr>\n",
       "    <tr>\n",
       "      <th>3</th>\n",
       "      <td>0</td>\n",
       "      <td>business</td>\n",
       "      <td>WorldCom bosses' $54m payout  Ten former direc...</td>\n",
       "      <td>But, a spokesman for the prosecutor, New York ...</td>\n",
       "    </tr>\n",
       "    <tr>\n",
       "      <th>4</th>\n",
       "      <td>0</td>\n",
       "      <td>business</td>\n",
       "      <td>WorldCom bosses' $54m payout  Ten former direc...</td>\n",
       "      <td>Corporate governance experts said that if the...</td>\n",
       "    </tr>\n",
       "  </tbody>\n",
       "</table>\n",
       "</div>"
      ],
      "text/plain": [
       "   index topic_name                                               text  \\\n",
       "0      0   business  WorldCom bosses' $54m payout  Ten former direc...   \n",
       "1      0   business  WorldCom bosses' $54m payout  Ten former direc...   \n",
       "2      0   business  WorldCom bosses' $54m payout  Ten former direc...   \n",
       "3      0   business  WorldCom bosses' $54m payout  Ten former direc...   \n",
       "4      0   business  WorldCom bosses' $54m payout  Ten former direc...   \n",
       "\n",
       "                                            sentence  \n",
       "0  WorldCom bosses' $54m payout  Ten former direc...  \n",
       "1   James Wareham, a lawyer representing one of t...  \n",
       "2  The remaining $36m will be paid by the directo...  \n",
       "3  But, a spokesman for the prosecutor, New York ...  \n",
       "4   Corporate governance experts said that if the...  "
      ]
     },
     "execution_count": 6,
     "metadata": {},
     "output_type": "execute_result"
    }
   ],
   "source": [
    "split_input_texts_df.head()"
   ]
  },
  {
   "cell_type": "markdown",
   "metadata": {},
   "source": [
    "Join sentences to the texts to review the results"
   ]
  },
  {
   "cell_type": "code",
   "execution_count": 7,
   "metadata": {},
   "outputs": [
    {
     "data": {
      "text/html": [
       "<div>\n",
       "<style scoped>\n",
       "    .dataframe tbody tr th:only-of-type {\n",
       "        vertical-align: middle;\n",
       "    }\n",
       "\n",
       "    .dataframe tbody tr th {\n",
       "        vertical-align: top;\n",
       "    }\n",
       "\n",
       "    .dataframe thead th {\n",
       "        text-align: right;\n",
       "    }\n",
       "</style>\n",
       "<table border=\"1\" class=\"dataframe\">\n",
       "  <thead>\n",
       "    <tr style=\"text-align: right;\">\n",
       "      <th></th>\n",
       "      <th>index</th>\n",
       "      <th>sentence</th>\n",
       "    </tr>\n",
       "  </thead>\n",
       "  <tbody>\n",
       "    <tr>\n",
       "      <th>0</th>\n",
       "      <td>0</td>\n",
       "      <td>WorldCom bosses' $54m payout  Ten former direc...</td>\n",
       "    </tr>\n",
       "    <tr>\n",
       "      <th>1</th>\n",
       "      <td>1</td>\n",
       "      <td>Profits slide at India's Dr Reddy  Profits at ...</td>\n",
       "    </tr>\n",
       "    <tr>\n",
       "      <th>2</th>\n",
       "      <td>2</td>\n",
       "      <td>Liberian economy starts to grow  The Liberian ...</td>\n",
       "    </tr>\n",
       "    <tr>\n",
       "      <th>3</th>\n",
       "      <td>4</td>\n",
       "      <td>Singer Ian Brown 'in gig arrest'  Former Stone...</td>\n",
       "    </tr>\n",
       "    <tr>\n",
       "      <th>4</th>\n",
       "      <td>5</td>\n",
       "      <td>Blue beat U2 to top France honour  Irish band ...</td>\n",
       "    </tr>\n",
       "    <tr>\n",
       "      <th>5</th>\n",
       "      <td>6</td>\n",
       "      <td>Housewives lift Channel 4 ratings  The debut o...</td>\n",
       "    </tr>\n",
       "    <tr>\n",
       "      <th>6</th>\n",
       "      <td>9</td>\n",
       "      <td>Observers to monitor UK election  Ministers wi...</td>\n",
       "    </tr>\n",
       "    <tr>\n",
       "      <th>7</th>\n",
       "      <td>10</td>\n",
       "      <td>Lib Dems highlight problem debt  People vulner...</td>\n",
       "    </tr>\n",
       "    <tr>\n",
       "      <th>8</th>\n",
       "      <td>11</td>\n",
       "      <td>Minister defends hunting ban law  The law bann...</td>\n",
       "    </tr>\n",
       "    <tr>\n",
       "      <th>9</th>\n",
       "      <td>12</td>\n",
       "      <td>Legendary Dutch boss Michels dies  Legendary D...</td>\n",
       "    </tr>\n",
       "    <tr>\n",
       "      <th>10</th>\n",
       "      <td>13</td>\n",
       "      <td>Connors boost for British tennis  Former world...</td>\n",
       "    </tr>\n",
       "    <tr>\n",
       "      <th>11</th>\n",
       "      <td>14</td>\n",
       "      <td>Sociedad set to rescue Mladenovic  Rangers are...</td>\n",
       "    </tr>\n",
       "    <tr>\n",
       "      <th>12</th>\n",
       "      <td>15</td>\n",
       "      <td>Mobile games come of age  The BBC News website...</td>\n",
       "    </tr>\n",
       "    <tr>\n",
       "      <th>13</th>\n",
       "      <td>16</td>\n",
       "      <td>PlayStation 3 processor unveiled  The Cell pro...</td>\n",
       "    </tr>\n",
       "    <tr>\n",
       "      <th>14</th>\n",
       "      <td>17</td>\n",
       "      <td>PC photo printers challenge printed pictures c...</td>\n",
       "    </tr>\n",
       "    <tr>\n",
       "      <th>15</th>\n",
       "      <td>18</td>\n",
       "      <td>PC photo printers challenge pros  Home printed...</td>\n",
       "    </tr>\n",
       "    <tr>\n",
       "      <th>16</th>\n",
       "      <td>19</td>\n",
       "      <td>data clear additional 78.0 long-term 43 those)</td>\n",
       "    </tr>\n",
       "    <tr>\n",
       "      <th>17</th>\n",
       "      <td>20</td>\n",
       "      <td>Janice Dean currently serves as senior meteoro...</td>\n",
       "    </tr>\n",
       "  </tbody>\n",
       "</table>\n",
       "</div>"
      ],
      "text/plain": [
       "    index                                           sentence\n",
       "0       0  WorldCom bosses' $54m payout  Ten former direc...\n",
       "1       1  Profits slide at India's Dr Reddy  Profits at ...\n",
       "2       2  Liberian economy starts to grow  The Liberian ...\n",
       "3       4  Singer Ian Brown 'in gig arrest'  Former Stone...\n",
       "4       5  Blue beat U2 to top France honour  Irish band ...\n",
       "5       6  Housewives lift Channel 4 ratings  The debut o...\n",
       "6       9  Observers to monitor UK election  Ministers wi...\n",
       "7      10  Lib Dems highlight problem debt  People vulner...\n",
       "8      11  Minister defends hunting ban law  The law bann...\n",
       "9      12  Legendary Dutch boss Michels dies  Legendary D...\n",
       "10     13  Connors boost for British tennis  Former world...\n",
       "11     14  Sociedad set to rescue Mladenovic  Rangers are...\n",
       "12     15  Mobile games come of age  The BBC News website...\n",
       "13     16  PlayStation 3 processor unveiled  The Cell pro...\n",
       "14     17  PC photo printers challenge printed pictures c...\n",
       "15     18  PC photo printers challenge pros  Home printed...\n",
       "16     19     data clear additional 78.0 long-term 43 those)\n",
       "17     20  Janice Dean currently serves as senior meteoro..."
      ]
     },
     "execution_count": 7,
     "metadata": {},
     "output_type": "execute_result"
    }
   ],
   "source": [
    "textcl.join_sentences_by_label(split_input_texts_df, label_col = 'index')"
   ]
  },
  {
   "cell_type": "markdown",
   "metadata": {},
   "source": [
    "As we can see texts with index 3 (Turkish), 7 (Russian), 8 (Turkish) were removed."
   ]
  },
  {
   "cell_type": "markdown",
   "metadata": {},
   "source": [
    "## Filtering on Jaccard similarity"
   ]
  },
  {
   "cell_type": "code",
   "execution_count": 8,
   "metadata": {},
   "outputs": [
    {
     "name": "stdout",
     "output_type": "stream",
     "text": [
      "Num sentences after Jaccard sim filtering: 256\n"
     ]
    }
   ],
   "source": [
    "split_input_texts_df = textcl.jaccard_sim_filtering(split_input_texts_df, threshold=0.8)\n",
    "print(\"Num sentences after Jaccard sim filtering: {}\".format(len(split_input_texts_df)))"
   ]
  },
  {
   "cell_type": "code",
   "execution_count": 9,
   "metadata": {},
   "outputs": [
    {
     "data": {
      "text/html": [
       "<div>\n",
       "<style scoped>\n",
       "    .dataframe tbody tr th:only-of-type {\n",
       "        vertical-align: middle;\n",
       "    }\n",
       "\n",
       "    .dataframe tbody tr th {\n",
       "        vertical-align: top;\n",
       "    }\n",
       "\n",
       "    .dataframe thead th {\n",
       "        text-align: right;\n",
       "    }\n",
       "</style>\n",
       "<table border=\"1\" class=\"dataframe\">\n",
       "  <thead>\n",
       "    <tr style=\"text-align: right;\">\n",
       "      <th></th>\n",
       "      <th>index</th>\n",
       "      <th>topic_name</th>\n",
       "      <th>text</th>\n",
       "      <th>sentence</th>\n",
       "    </tr>\n",
       "  </thead>\n",
       "  <tbody>\n",
       "    <tr>\n",
       "      <th>0</th>\n",
       "      <td>0</td>\n",
       "      <td>business</td>\n",
       "      <td>WorldCom bosses' $54m payout  Ten former direc...</td>\n",
       "      <td>WorldCom bosses' $54m payout  Ten former direc...</td>\n",
       "    </tr>\n",
       "    <tr>\n",
       "      <th>1</th>\n",
       "      <td>0</td>\n",
       "      <td>business</td>\n",
       "      <td>WorldCom bosses' $54m payout  Ten former direc...</td>\n",
       "      <td>James Wareham, a lawyer representing one of t...</td>\n",
       "    </tr>\n",
       "    <tr>\n",
       "      <th>2</th>\n",
       "      <td>0</td>\n",
       "      <td>business</td>\n",
       "      <td>WorldCom bosses' $54m payout  Ten former direc...</td>\n",
       "      <td>The remaining $36m will be paid by the directo...</td>\n",
       "    </tr>\n",
       "    <tr>\n",
       "      <th>3</th>\n",
       "      <td>0</td>\n",
       "      <td>business</td>\n",
       "      <td>WorldCom bosses' $54m payout  Ten former direc...</td>\n",
       "      <td>But, a spokesman for the prosecutor, New York ...</td>\n",
       "    </tr>\n",
       "    <tr>\n",
       "      <th>4</th>\n",
       "      <td>0</td>\n",
       "      <td>business</td>\n",
       "      <td>WorldCom bosses' $54m payout  Ten former direc...</td>\n",
       "      <td>Corporate governance experts said that if the...</td>\n",
       "    </tr>\n",
       "  </tbody>\n",
       "</table>\n",
       "</div>"
      ],
      "text/plain": [
       "   index topic_name                                               text  \\\n",
       "0      0   business  WorldCom bosses' $54m payout  Ten former direc...   \n",
       "1      0   business  WorldCom bosses' $54m payout  Ten former direc...   \n",
       "2      0   business  WorldCom bosses' $54m payout  Ten former direc...   \n",
       "3      0   business  WorldCom bosses' $54m payout  Ten former direc...   \n",
       "4      0   business  WorldCom bosses' $54m payout  Ten former direc...   \n",
       "\n",
       "                                            sentence  \n",
       "0  WorldCom bosses' $54m payout  Ten former direc...  \n",
       "1   James Wareham, a lawyer representing one of t...  \n",
       "2  The remaining $36m will be paid by the directo...  \n",
       "3  But, a spokesman for the prosecutor, New York ...  \n",
       "4   Corporate governance experts said that if the...  "
      ]
     },
     "execution_count": 9,
     "metadata": {},
     "output_type": "execute_result"
    }
   ],
   "source": [
    "split_input_texts_df.head()"
   ]
  },
  {
   "cell_type": "markdown",
   "metadata": {},
   "source": [
    "Join sentences to the texts to review the results"
   ]
  },
  {
   "cell_type": "code",
   "execution_count": 10,
   "metadata": {},
   "outputs": [
    {
     "data": {
      "text/html": [
       "<div>\n",
       "<style scoped>\n",
       "    .dataframe tbody tr th:only-of-type {\n",
       "        vertical-align: middle;\n",
       "    }\n",
       "\n",
       "    .dataframe tbody tr th {\n",
       "        vertical-align: top;\n",
       "    }\n",
       "\n",
       "    .dataframe thead th {\n",
       "        text-align: right;\n",
       "    }\n",
       "</style>\n",
       "<table border=\"1\" class=\"dataframe\">\n",
       "  <thead>\n",
       "    <tr style=\"text-align: right;\">\n",
       "      <th></th>\n",
       "      <th>index</th>\n",
       "      <th>sentence</th>\n",
       "    </tr>\n",
       "  </thead>\n",
       "  <tbody>\n",
       "    <tr>\n",
       "      <th>0</th>\n",
       "      <td>0</td>\n",
       "      <td>WorldCom bosses' $54m payout  Ten former direc...</td>\n",
       "    </tr>\n",
       "    <tr>\n",
       "      <th>1</th>\n",
       "      <td>1</td>\n",
       "      <td>Profits slide at India's Dr Reddy  Profits at ...</td>\n",
       "    </tr>\n",
       "    <tr>\n",
       "      <th>2</th>\n",
       "      <td>2</td>\n",
       "      <td>Liberian economy starts to grow  The Liberian ...</td>\n",
       "    </tr>\n",
       "    <tr>\n",
       "      <th>3</th>\n",
       "      <td>4</td>\n",
       "      <td>Singer Ian Brown 'in gig arrest'  Former Stone...</td>\n",
       "    </tr>\n",
       "    <tr>\n",
       "      <th>4</th>\n",
       "      <td>5</td>\n",
       "      <td>Blue beat U2 to top France honour  Irish band ...</td>\n",
       "    </tr>\n",
       "    <tr>\n",
       "      <th>5</th>\n",
       "      <td>6</td>\n",
       "      <td>Housewives lift Channel 4 ratings  The debut o...</td>\n",
       "    </tr>\n",
       "    <tr>\n",
       "      <th>6</th>\n",
       "      <td>9</td>\n",
       "      <td>Observers to monitor UK election  Ministers wi...</td>\n",
       "    </tr>\n",
       "    <tr>\n",
       "      <th>7</th>\n",
       "      <td>10</td>\n",
       "      <td>Lib Dems highlight problem debt  People vulner...</td>\n",
       "    </tr>\n",
       "    <tr>\n",
       "      <th>8</th>\n",
       "      <td>11</td>\n",
       "      <td>Minister defends hunting ban law  The law bann...</td>\n",
       "    </tr>\n",
       "    <tr>\n",
       "      <th>9</th>\n",
       "      <td>12</td>\n",
       "      <td>Legendary Dutch boss Michels dies  Legendary D...</td>\n",
       "    </tr>\n",
       "    <tr>\n",
       "      <th>10</th>\n",
       "      <td>13</td>\n",
       "      <td>Connors boost for British tennis  Former world...</td>\n",
       "    </tr>\n",
       "    <tr>\n",
       "      <th>11</th>\n",
       "      <td>14</td>\n",
       "      <td>Sociedad set to rescue Mladenovic  Rangers are...</td>\n",
       "    </tr>\n",
       "    <tr>\n",
       "      <th>12</th>\n",
       "      <td>15</td>\n",
       "      <td>Mobile games come of age  The BBC News website...</td>\n",
       "    </tr>\n",
       "    <tr>\n",
       "      <th>13</th>\n",
       "      <td>16</td>\n",
       "      <td>PlayStation 3 processor unveiled  The Cell pro...</td>\n",
       "    </tr>\n",
       "    <tr>\n",
       "      <th>14</th>\n",
       "      <td>18</td>\n",
       "      <td>PC photo printers challenge pros  Home printed...</td>\n",
       "    </tr>\n",
       "    <tr>\n",
       "      <th>15</th>\n",
       "      <td>19</td>\n",
       "      <td>data clear additional 78.0 long-term 43 those)</td>\n",
       "    </tr>\n",
       "    <tr>\n",
       "      <th>16</th>\n",
       "      <td>20</td>\n",
       "      <td>Janice Dean currently serves as senior meteoro...</td>\n",
       "    </tr>\n",
       "  </tbody>\n",
       "</table>\n",
       "</div>"
      ],
      "text/plain": [
       "    index                                           sentence\n",
       "0       0  WorldCom bosses' $54m payout  Ten former direc...\n",
       "1       1  Profits slide at India's Dr Reddy  Profits at ...\n",
       "2       2  Liberian economy starts to grow  The Liberian ...\n",
       "3       4  Singer Ian Brown 'in gig arrest'  Former Stone...\n",
       "4       5  Blue beat U2 to top France honour  Irish band ...\n",
       "5       6  Housewives lift Channel 4 ratings  The debut o...\n",
       "6       9  Observers to monitor UK election  Ministers wi...\n",
       "7      10  Lib Dems highlight problem debt  People vulner...\n",
       "8      11  Minister defends hunting ban law  The law bann...\n",
       "9      12  Legendary Dutch boss Michels dies  Legendary D...\n",
       "10     13  Connors boost for British tennis  Former world...\n",
       "11     14  Sociedad set to rescue Mladenovic  Rangers are...\n",
       "12     15  Mobile games come of age  The BBC News website...\n",
       "13     16  PlayStation 3 processor unveiled  The Cell pro...\n",
       "14     18  PC photo printers challenge pros  Home printed...\n",
       "15     19     data clear additional 78.0 long-term 43 those)\n",
       "16     20  Janice Dean currently serves as senior meteoro..."
      ]
     },
     "execution_count": 10,
     "metadata": {},
     "output_type": "execute_result"
    }
   ],
   "source": [
    "textcl.join_sentences_by_label(split_input_texts_df, label_col = 'index')"
   ]
  },
  {
   "cell_type": "markdown",
   "metadata": {},
   "source": [
    "Texts with id=17 was removed as it partially duplicates text with id=18."
   ]
  },
  {
   "cell_type": "markdown",
   "metadata": {},
   "source": [
    "## Filtering on perplexity score"
   ]
  },
  {
   "cell_type": "code",
   "execution_count": null,
   "metadata": {},
   "outputs": [],
   "source": [
    "split_input_texts_df = textcl.perplexity_filtering(split_input_texts_df, threshold=5)\n",
    "print(\"Num sentences after perplexity filtering: {}\".format(len(split_input_texts_df)))"
   ]
  },
  {
   "cell_type": "code",
   "execution_count": null,
   "metadata": {},
   "outputs": [],
   "source": [
    "split_input_texts_df.head()"
   ]
  },
  {
   "cell_type": "markdown",
   "metadata": {},
   "source": [
    "Join sentences to the texts to review the results"
   ]
  },
  {
   "cell_type": "code",
   "execution_count": null,
   "metadata": {},
   "outputs": [],
   "source": [
    "textcl.join_sentences_by_label(split_input_texts_df, label_col = 'index')"
   ]
  },
  {
   "cell_type": "markdown",
   "metadata": {},
   "source": [
    "Texts with id=19 was removed because sentence `data clear additional 78.0 long-term 43 those)` is not linguistically correct."
   ]
  },
  {
   "cell_type": "markdown",
   "metadata": {},
   "source": [
    "## Outliers filtering"
   ]
  },
  {
   "cell_type": "markdown",
   "metadata": {},
   "source": [
    "Join sentences to the text after filtering and select category **tech**. In this category was manually inserted an outlier with person profile instead of tech text"
   ]
  },
  {
   "cell_type": "code",
   "execution_count": null,
   "metadata": {},
   "outputs": [],
   "source": [
    "joined_texts = split_input_texts_df[[\"index\", \"text\", \"topic_name\"]].drop_duplicates()\n",
    "joined_texts = joined_texts[joined_texts.topic_name == 'tech']"
   ]
  },
  {
   "cell_type": "code",
   "execution_count": null,
   "metadata": {},
   "outputs": [],
   "source": [
    "joined_texts, _ = textcl.outlier_detection(joined_texts, method='rpca', Z_threshold=0.8)\n",
    "print(\"Num sentences after outliers filtering: {}\".format(len(input_texts_df)))"
   ]
  },
  {
   "cell_type": "code",
   "execution_count": null,
   "metadata": {},
   "outputs": [],
   "source": [
    "joined_texts"
   ]
  },
  {
   "cell_type": "markdown",
   "metadata": {},
   "source": [
    "Texts with id=20 was removed because it describes a person profile instead of tech news."
   ]
  }
 ],
 "metadata": {
  "kernelspec": {
   "display_name": "Python 3",
   "language": "python",
   "name": "python3"
  },
  "language_info": {
   "codemirror_mode": {
    "name": "ipython",
    "version": 3
   },
   "file_extension": ".py",
   "mimetype": "text/x-python",
   "name": "python",
   "nbconvert_exporter": "python",
   "pygments_lexer": "ipython3",
   "version": "3.6.9"
  },
  "pycharm": {
   "stem_cell": {
    "cell_type": "raw",
    "metadata": {
     "collapsed": false
    },
    "source": []
   }
  }
 },
 "nbformat": 4,
 "nbformat_minor": 4
}
